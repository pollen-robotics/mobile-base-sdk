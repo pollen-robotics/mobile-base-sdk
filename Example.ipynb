{
 "cells": [
  {
   "cell_type": "code",
   "execution_count": null,
   "id": "f0106841",
   "metadata": {},
   "outputs": [],
   "source": [
    "from mobile_base import MobileBaseSDK"
   ]
  },
  {
   "cell_type": "code",
   "execution_count": null,
   "id": "945c3fbc",
   "metadata": {},
   "outputs": [],
   "source": [
    "mobile_base = MobileBaseSDK('192.168.1.21')"
   ]
  },
  {
   "cell_type": "code",
   "execution_count": null,
   "id": "cef6d84e",
   "metadata": {},
   "outputs": [],
   "source": [
    "mobile_base.odometry"
   ]
  },
  {
   "cell_type": "code",
   "execution_count": null,
   "id": "185924fe",
   "metadata": {},
   "outputs": [],
   "source": [
    "mobile_base.reset_odometry()"
   ]
  },
  {
   "cell_type": "code",
   "execution_count": null,
   "id": "8d5907ec",
   "metadata": {},
   "outputs": [],
   "source": [
    "mobile_base.battery_level"
   ]
  },
  {
   "cell_type": "code",
   "execution_count": null,
   "id": "462797fe",
   "metadata": {},
   "outputs": [],
   "source": [
    "mobile_base.model_version"
   ]
  },
  {
   "cell_type": "code",
   "execution_count": null,
   "id": "70600a80",
   "metadata": {},
   "outputs": [],
   "source": []
  },
  {
   "cell_type": "code",
   "execution_count": null,
   "id": "be83a671",
   "metadata": {},
   "outputs": [],
   "source": [
    "mobile_base.emergency_shutdown()"
   ]
  },
  {
   "cell_type": "code",
   "execution_count": null,
   "id": "db7d293b",
   "metadata": {},
   "outputs": [],
   "source": [
    "mobile_base.control_mode = 'pid'"
   ]
  },
  {
   "cell_type": "code",
   "execution_count": null,
   "id": "1fbd5159",
   "metadata": {},
   "outputs": [],
   "source": [
    "mobile_base.drive_mode = 'emergency_stop'"
   ]
  },
  {
   "cell_type": "code",
   "execution_count": null,
   "id": "d567aaeb",
   "metadata": {},
   "outputs": [],
   "source": [
    "mobile_base.set_speed(x_vel=0.0, y_vel=0.0, rot_vel=1.0, duration=5.0)"
   ]
  },
  {
   "cell_type": "code",
   "execution_count": null,
   "id": "bf44d79e",
   "metadata": {},
   "outputs": [],
   "source": [
    "mobile_base.go_to(x=-0.5, y=0.0, theta=3.1415)"
   ]
  },
  {
   "cell_type": "code",
   "execution_count": null,
   "id": "e31e54be",
   "metadata": {},
   "outputs": [],
   "source": [
    "mobile_base.go_to(x=0.0, y=0.0, theta=0.0)"
   ]
  },
  {
   "cell_type": "code",
   "execution_count": null,
   "id": "89dd085e",
   "metadata": {},
   "outputs": [],
   "source": []
  }
 ],
 "metadata": {
  "kernelspec": {
   "display_name": "Python 3 (ipykernel)",
   "language": "python",
   "name": "python3"
  },
  "language_info": {
   "codemirror_mode": {
    "name": "ipython",
    "version": 3
   },
   "file_extension": ".py",
   "mimetype": "text/x-python",
   "name": "python",
   "nbconvert_exporter": "python",
   "pygments_lexer": "ipython3",
   "version": "3.8.10"
  }
 },
 "nbformat": 4,
 "nbformat_minor": 5
}
