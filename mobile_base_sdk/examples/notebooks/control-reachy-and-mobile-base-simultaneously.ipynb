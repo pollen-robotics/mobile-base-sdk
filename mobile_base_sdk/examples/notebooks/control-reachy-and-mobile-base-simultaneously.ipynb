{
 "cells": [
  {
   "cell_type": "markdown",
   "id": "52bfd12a",
   "metadata": {},
   "source": [
    "# Use reachy-sdk to control Reachy and it's mobile base at the same time"
   ]
  },
  {
   "cell_type": "markdown",
   "id": "406b6807",
   "metadata": {},
   "source": [
    "So far in the other notebooks we presented how to control Reachy's mobile base alone, but it is of course possible to control it along with your Reachy!\n",
    "\n",
    "To do that, you will need to use [reachy-sdk](https://github.com/pollen-robotics/reachy-sdk), our Python SDK to control Reachy."
   ]
  },
  {
   "cell_type": "code",
   "execution_count": null,
   "id": "424e9426",
   "metadata": {},
   "outputs": [],
   "source": [
    "from reachy_sdk import ReachySDK"
   ]
  },
  {
   "cell_type": "markdown",
   "id": "340d0bfa",
   "metadata": {},
   "source": [
    "In the ReachySDK constructor, specify that your Reachy is equipped with a mobile base and if Reachy SDK server and the mobile base SDK server are running, you're good to go."
   ]
  },
  {
   "cell_type": "code",
   "execution_count": null,
   "id": "99e6d7dc",
   "metadata": {},
   "outputs": [],
   "source": [
    "reachy = ReachySDK(host='192.168.86.35', with_mobile_base=True) # Replace the IP with your Reachy's IP"
   ]
  },
  {
   "cell_type": "markdown",
   "id": "69eff4bb",
   "metadata": {},
   "source": [
    "You have now access to the mobile base with *reachy.mobile_base*!"
   ]
  },
  {
   "cell_type": "code",
   "execution_count": null,
   "id": "a2faafb4",
   "metadata": {},
   "outputs": [],
   "source": [
    "reachy.mobile_base"
   ]
  },
  {
   "cell_type": "markdown",
   "id": "7a970861",
   "metadata": {},
   "source": [
    "As in the other notebooks, you can send goto instructions to the mobile base, access its odometry, battery voltage,..."
   ]
  },
  {
   "cell_type": "code",
   "execution_count": null,
   "id": "36da6f3c",
   "metadata": {},
   "outputs": [],
   "source": [
    "reachy.mobile_base.reset_odometry()"
   ]
  },
  {
   "cell_type": "code",
   "execution_count": null,
   "id": "1161d21f",
   "metadata": {},
   "outputs": [],
   "source": [
    "reachy.mobile_base.goto(x=0, y=0, theta=-45)"
   ]
  },
  {
   "cell_type": "code",
   "execution_count": null,
   "id": "cdd35fdf",
   "metadata": {},
   "outputs": [],
   "source": [
    "reachy.mobile_base.battery_voltage"
   ]
  },
  {
   "cell_type": "markdown",
   "id": "d031ce15",
   "metadata": {},
   "source": [
    "And as usual you can control your Reachy!"
   ]
  },
  {
   "cell_type": "code",
   "execution_count": null,
   "id": "0c86d3d2",
   "metadata": {},
   "outputs": [],
   "source": [
    "reachy"
   ]
  },
  {
   "cell_type": "code",
   "execution_count": null,
   "id": "1ae92777",
   "metadata": {},
   "outputs": [],
   "source": [
    "reachy.turn_on('head')\n",
    "\n",
    "reachy.head.look_at(0.5, 0, -0.5, 1.0)\n",
    "\n",
    "reachy.head.look_at(0.5, 0, 0, 1.0)"
   ]
  },
  {
   "cell_type": "markdown",
   "id": "6cb4690f",
   "metadata": {},
   "source": [
    "## [advanced] Move Reachy and the mobile base at the same time\n",
    "\n",
    "What we will show you here is an advanced example of movements you can do by combining goto instructions on Reachy's arm and sending goto to the mobile base.\n",
    "\n",
    "We will show you how you can do a movement like this:"
   ]
  },
  {
   "cell_type": "code",
   "execution_count": null,
   "id": "0f89eabb",
   "metadata": {},
   "outputs": [],
   "source": [
    "from IPython.display import HTML\n",
    "\n",
    "HTML(\"\"\"\n",
    "    <video width=\"25%\" controls>\n",
    "        <source src=\"data/goto_reachy_and_mobile_base.mp4\" type=\"video/mp4\">\n",
    "    </video>\n",
    "\"\"\")"
   ]
  },
  {
   "cell_type": "markdown",
   "id": "20cf511c",
   "metadata": {},
   "source": [
    "To do that, we will have to use the asynchronous version of the goto function of Reachy and the goto of the mobile base.\n",
    "\n",
    "If you're not familiar with asynchronous programming, you can check the [Python documentation](https://docs.python.org/3/library/asyncio.html) of *asyncio*, the Python library to do asynchronous programming."
   ]
  },
  {
   "cell_type": "code",
   "execution_count": null,
   "id": "9a427af6",
   "metadata": {},
   "outputs": [],
   "source": [
    "import asyncio\n",
    "\n",
    "from reachy_sdk.trajectory import goto_async\n",
    "from reachy_sdk.trajectory.interpolation import InterpolationMode\n",
    "\n",
    "import numpy as np"
   ]
  },
  {
   "cell_type": "markdown",
   "id": "1a3d1d2a",
   "metadata": {},
   "source": [
    "The sequence showed in the video is composed of two parts:\n",
    "* goto instruction for the mobile base in its odom frame,\n",
    "* greeting movement from Reachy's right arm which is itself combining mutiple gotos"
   ]
  },
  {
   "cell_type": "markdown",
   "id": "6b8499f6",
   "metadata": {},
   "source": [
    "### goto for the mobile base\n",
    "\n",
    "This one is the easy part. We will just define a target point (x, y, theta) in the odom frame of the mobile base. To make the movement that you saw on the video above, we took x=-0.3m, y=-1.0m and theta=35°.\n",
    "\n",
    "Remember that x and y are in meters and that theta is in degree.\n",
    "\n",
    "We can define the aynschronous goto for the mobile base like this:"
   ]
  },
  {
   "cell_type": "code",
   "execution_count": null,
   "id": "acca3770",
   "metadata": {},
   "outputs": [],
   "source": [
    "goto_async_mobile_base = reachy.mobile_base.goto_async(x=-0.3, y=-1.0, theta=35.0, timeout=2.0)"
   ]
  },
  {
   "cell_type": "markdown",
   "id": "6a2d29a1",
   "metadata": {},
   "source": [
    "**Note**: just executing this command will not make the mobile base move as it is an asynchronous command. If you want to make the mobile base execute the goto we just defined, you will have to use the *await* keyword."
   ]
  },
  {
   "cell_type": "code",
   "execution_count": null,
   "id": "8b55545e",
   "metadata": {},
   "outputs": [],
   "source": [
    "await goto_async_mobile_base"
   ]
  },
  {
   "cell_type": "markdown",
   "id": "003e660d",
   "metadata": {},
   "source": [
    "### greetings movement for Reachy's right arm\n",
    "\n",
    "This movement is a bit more complicated as it is composed of:\n",
    "* one movement to raise the arm\n",
    "* agitation of Reachy's wrist\n",
    "* one movement to put the arm along Reachy's torso"
   ]
  },
  {
   "cell_type": "markdown",
   "id": "45e50d73",
   "metadata": {},
   "source": [
    "#### Raising the arm\n",
    "\n",
    "To have the first movement, we actually put Reachy's right arm in compliant mode in the final position we wanted it to be and saved the present position of each joint's arm. This saved positions will be given to the goto_async of ReachySDK to send the command."
   ]
  },
  {
   "cell_type": "markdown",
   "id": "e9001efa",
   "metadata": {},
   "source": [
    "```python\n",
    "greet_joint_pos = [5, -15, -65, -131, 83, 26, -16]\n",
    "\n",
    "# Build a dictionnary with each Reachy's joint we want to move and its goal position\n",
    "goal_goto_greet = {joint: gp for (joint, gp) in zip(list(reachy.r_arm.joints.values()), greet_joint_pos)}\n",
    "\n",
    "goto_greet = goto_async(\n",
    "        goal_positions=goal_goto_greet,\n",
    "        duration=1.2,\n",
    "        interpolation_mode=InterpolationMode.MINIMUM_JERK,\n",
    "    )\n",
    "```"
   ]
  },
  {
   "cell_type": "markdown",
   "id": "348b2517",
   "metadata": {},
   "source": [
    "#### Agitating Reachy's wrist\n",
    "\n",
    "To do this, we just define two goal positions for the wrist_roll which is the only joint involved in the movement. We got these values by doing the same thing as before: we placed the joint in compliant mode in the position we wanted it to be. Then we will just switch between the positions to have the agitation of the wrist.\n",
    "\n",
    "```python\n",
    "goal_1_wrist = {reachy.r_arm.r_wrist_roll: 23.0}\n",
    "goal_2_wrist = {reachy.r_arm.r_wrist_roll: -17.0}\n",
    "\n",
    "goto_wrist_1 = goto_async(\n",
    "        goal_positions=goal_1_wrist,\n",
    "        duration=0.5,\n",
    "        interpolation_mode=InterpolationMode.MINIMUM_JERK,\n",
    "    )\n",
    "goto_wrist_2 = goto_async(\n",
    "        goal_positions=goal_2_wrist,\n",
    "        duration=0.5,\n",
    "        interpolation_mode=InterpolationMode.MINIMUM_JERK,\n",
    "    )\n",
    "```"
   ]
  },
  {
   "cell_type": "markdown",
   "id": "6efc87a0",
   "metadata": {},
   "source": [
    "#### Putting Reachy's arm along its torso\n",
    "\n",
    "To do that, we just an async goto with 0.0 as goal position for each joint.\n",
    "\n",
    "```python\n",
    "goal_goto_rest = {joint: 0 for joint in list(reachy.r_arm.joints.values())}\n",
    "\n",
    "goto_rest = goto_async(\n",
    "        goal_positions=goal_goto_rest,\n",
    "        duration=1.5,\n",
    "        interpolation_mode=InterpolationMode.MINIMUM_JERK,\n",
    "    )\n",
    "\n",
    "```"
   ]
  },
  {
   "cell_type": "markdown",
   "id": "e9cbba21",
   "metadata": {},
   "source": [
    "#### Wrapping everything in one function\n",
    "\n",
    "Now that each part of the greetings movement is set, we can define a function that will perform the greetings."
   ]
  },
  {
   "cell_type": "code",
   "execution_count": null,
   "id": "96e27b0e",
   "metadata": {},
   "outputs": [],
   "source": [
    "# Raising the arm\n",
    "greet_joint_pos = [5, -15, -65, -131, 83, 26, -16]\n",
    "goal_goto_greet = {joint: gp for (joint, gp) in zip(list(reachy.r_arm.joints.values()), greet_joint_pos)}\n",
    "\n",
    "\n",
    "# Agitating the wrist\n",
    "goal_1_wrist = {reachy.r_arm.r_wrist_roll: 23.0}\n",
    "goal_2_wrist = {reachy.r_arm.r_wrist_roll: -17.0}\n",
    "\n",
    "\n",
    "# Putting Reachy's arm along its torso\n",
    "goal_goto_rest = {joint: 0 for joint in list(reachy.r_arm.joints.values())}\n",
    "\n",
    "\n",
    "async def greet(reachy):\n",
    "    reachy.turn_on('r_arm')\n",
    "\n",
    "    # Raising the arm\n",
    "    await goto_async(\n",
    "        goal_positions=goal_goto_greet,\n",
    "        duration=1.5,\n",
    "        interpolation_mode=InterpolationMode.MINIMUM_JERK,\n",
    "    )\n",
    "\n",
    "    # Agitating the wrist\n",
    "    await goto_async(\n",
    "            goal_positions=goal_1_wrist,\n",
    "            duration=0.5,\n",
    "            interpolation_mode=InterpolationMode.MINIMUM_JERK,\n",
    "        )\n",
    "    await goto_async(\n",
    "            goal_positions=goal_2_wrist,\n",
    "            duration=0.5,\n",
    "            interpolation_mode=InterpolationMode.MINIMUM_JERK,\n",
    "        )\n",
    "    await goto_async(\n",
    "            goal_positions=goal_1_wrist,\n",
    "            duration=0.5,\n",
    "            interpolation_mode=InterpolationMode.MINIMUM_JERK,\n",
    "        )\n",
    "    await goto_async(\n",
    "            goal_positions=goal_2_wrist,\n",
    "            duration=0.5,\n",
    "            interpolation_mode=InterpolationMode.MINIMUM_JERK,\n",
    "        )\n",
    "\n",
    "    # Putting Reachy's arm along its torso\n",
    "    await goto_async(\n",
    "        goal_positions=goal_goto_rest,\n",
    "        duration=1.5,\n",
    "        interpolation_mode=InterpolationMode.MINIMUM_JERK,\n",
    "    )\n",
    "    reachy.turn_off_smoothly('r_arm')"
   ]
  },
  {
   "cell_type": "code",
   "execution_count": null,
   "id": "8080b16a",
   "metadata": {},
   "outputs": [],
   "source": [
    "await greet(reachy)"
   ]
  },
  {
   "cell_type": "markdown",
   "id": "9c1beef1",
   "metadata": {},
   "source": [
    "### Moving Reachy's arm and its mobile base at the same time\n",
    "\n",
    "Now it's time to reproduce the example showed in the video!\n",
    "\n",
    "To do that, you just have to use *gather* from asyncio."
   ]
  },
  {
   "cell_type": "code",
   "execution_count": null,
   "id": "e1027aac",
   "metadata": {},
   "outputs": [],
   "source": [
    "# First make sure that the mobile base is at the center of its odom frame\n",
    "reachy.mobile_base.goto(x=0.0, y=0.0, theta=0.0)"
   ]
  },
  {
   "cell_type": "code",
   "execution_count": null,
   "id": "45ef603b",
   "metadata": {},
   "outputs": [],
   "source": [
    "await asyncio.gather(\n",
    "    greet(reachy),\n",
    "    goto_async_mobile_base,\n",
    ")"
   ]
  },
  {
   "cell_type": "markdown",
   "id": "85ad254a",
   "metadata": {},
   "source": [
    "That's it! You know how to make the mobile base and the rest of Reachy move at the same time!"
   ]
  }
 ],
 "metadata": {
  "kernelspec": {
   "display_name": "Python 3",
   "language": "python",
   "name": "python3"
  },
  "language_info": {
   "codemirror_mode": {
    "name": "ipython",
    "version": 3
   },
   "file_extension": ".py",
   "mimetype": "text/x-python",
   "name": "python",
   "nbconvert_exporter": "python",
   "pygments_lexer": "ipython3",
   "version": "3.8.10"
  }
 },
 "nbformat": 4,
 "nbformat_minor": 5
}
