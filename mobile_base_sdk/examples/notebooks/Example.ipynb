{
 "cells": [
  {
   "cell_type": "markdown",
   "id": "75b092c6",
   "metadata": {},
   "source": [
    "# mobile-base-sdk example notebook\n",
    "\n",
    "This notebook present aims at helping you get your hands on Reachy's mobile base's sdk python api.\n",
    "\n",
    "You will learn how to connect to Reachy's mobile base, access basic information, send movement commands\n",
    "and check advanced features.\n",
    "\n",
    "For more information, check [Reachy's online documentation](https://docs.pollen-robotics.com/)."
   ]
  },
  {
   "cell_type": "markdown",
   "id": "3d2ba123",
   "metadata": {},
   "source": [
    "## Connect to the mobile base\n",
    "\n",
    "With just two lines of code you can connect to Reachy's mobile base. Just like with [ReachySDK](https://docs.pollen-robotics.com/sdk/getting-started/introduction/), you can connect to the mobile base from any computer as long it is\n",
    "on the same network as Reachy."
   ]
  },
  {
   "cell_type": "code",
   "execution_count": 1,
   "id": "e11af457",
   "metadata": {},
   "outputs": [],
   "source": [
    "from mobile_base_sdk import MobileBaseSDK"
   ]
  },
  {
   "cell_type": "markdown",
   "id": "6f867a8a",
   "metadata": {},
   "source": [
    "The communication with the mobile base using its SDK goes through the instaciation of the MobileBaseSDK object.\n",
    "MobileBaseSDK takes only one argument at initialisation, Reachy's IP address on the network. If you need help to find Reachy's IP address, check out the [Finding Reachy's IP section](https://docs.pollen-robotics.com/help/system/find-my-ip/) from the online documentation. If you're working directly on Reachy, you can just put *'localhost'* as IP address, like the example below."
   ]
  },
  {
   "cell_type": "code",
   "execution_count": 2,
   "id": "b5649903",
   "metadata": {},
   "outputs": [
    {
     "ename": "_InactiveRpcError",
     "evalue": "<_InactiveRpcError of RPC that terminated with:\n\tstatus = StatusCode.UNKNOWN\n\tdetails = \"Exception calling application: Command '['ros2', 'param', 'get', '/zuuu_hal', 'control_mode']' returned non-zero exit status 1.\"\n\tdebug_error_string = \"{\"created\":\"@1657032523.157275714\",\"description\":\"Error received from peer ipv4:192.168.86.35:50061\",\"file\":\"src/core/lib/surface/call.cc\",\"file_line\":1066,\"grpc_message\":\"Exception calling application: Command '['ros2', 'param', 'get', '/zuuu_hal', 'control_mode']' returned non-zero exit status 1.\",\"grpc_status\":2}\"\n>",
     "output_type": "error",
     "traceback": [
      "\u001b[0;31m---------------------------------------------------------------------------\u001b[0m",
      "\u001b[0;31m_InactiveRpcError\u001b[0m                         Traceback (most recent call last)",
      "\u001b[0;32m<ipython-input-2-377202385619>\u001b[0m in \u001b[0;36m<module>\u001b[0;34m\u001b[0m\n\u001b[0;32m----> 1\u001b[0;31m \u001b[0mmobile_base\u001b[0m \u001b[0;34m=\u001b[0m \u001b[0mMobileBaseSDK\u001b[0m\u001b[0;34m(\u001b[0m\u001b[0;34m'192.168.86.35'\u001b[0m\u001b[0;34m)\u001b[0m \u001b[0;31m# Replace with your Reachy's IP address\u001b[0m\u001b[0;34m\u001b[0m\u001b[0;34m\u001b[0m\u001b[0m\n\u001b[0m",
      "\u001b[0;32m~/dev/mobile-base-sdk/mobile_base_sdk/mobile_base_sdk.py\u001b[0m in \u001b[0;36m__init__\u001b[0;34m(self, host, mobile_base_port)\u001b[0m\n\u001b[1;32m     55\u001b[0m \u001b[0;34m\u001b[0m\u001b[0m\n\u001b[1;32m     56\u001b[0m         \u001b[0mself\u001b[0m\u001b[0;34m.\u001b[0m\u001b[0m_drive_mode\u001b[0m \u001b[0;34m=\u001b[0m \u001b[0mget_drive_mode\u001b[0m\u001b[0;34m(\u001b[0m\u001b[0;34m)\u001b[0m\u001b[0;34m.\u001b[0m\u001b[0mlower\u001b[0m\u001b[0;34m(\u001b[0m\u001b[0;34m)\u001b[0m\u001b[0;34m\u001b[0m\u001b[0;34m\u001b[0m\u001b[0m\n\u001b[0;32m---> 57\u001b[0;31m         \u001b[0mself\u001b[0m\u001b[0;34m.\u001b[0m\u001b[0m_control_mode\u001b[0m \u001b[0;34m=\u001b[0m \u001b[0mget_control_mode\u001b[0m\u001b[0;34m(\u001b[0m\u001b[0;34m)\u001b[0m\u001b[0;34m.\u001b[0m\u001b[0mlower\u001b[0m\u001b[0;34m(\u001b[0m\u001b[0;34m)\u001b[0m\u001b[0;34m\u001b[0m\u001b[0;34m\u001b[0m\u001b[0m\n\u001b[0m\u001b[1;32m     58\u001b[0m \u001b[0;34m\u001b[0m\u001b[0m\n\u001b[1;32m     59\u001b[0m         \u001b[0mself\u001b[0m\u001b[0;34m.\u001b[0m\u001b[0m_max_xy_vel\u001b[0m \u001b[0;34m=\u001b[0m \u001b[0;36m1.0\u001b[0m\u001b[0;34m\u001b[0m\u001b[0;34m\u001b[0m\u001b[0m\n",
      "\u001b[0;32m~/dev/mobile-base-sdk/mobile_base_sdk/mobile_base_sdk.py\u001b[0m in \u001b[0;36mget_control_mode\u001b[0;34m()\u001b[0m\n\u001b[1;32m     51\u001b[0m \u001b[0;34m\u001b[0m\u001b[0m\n\u001b[1;32m     52\u001b[0m         \u001b[0;32mdef\u001b[0m \u001b[0mget_control_mode\u001b[0m\u001b[0;34m(\u001b[0m\u001b[0;34m)\u001b[0m\u001b[0;34m:\u001b[0m\u001b[0;34m\u001b[0m\u001b[0;34m\u001b[0m\u001b[0m\n\u001b[0;32m---> 53\u001b[0;31m             \u001b[0mmode_id\u001b[0m \u001b[0;34m=\u001b[0m \u001b[0mself\u001b[0m\u001b[0;34m.\u001b[0m\u001b[0m_stub\u001b[0m\u001b[0;34m.\u001b[0m\u001b[0mGetControlMode\u001b[0m\u001b[0;34m(\u001b[0m\u001b[0mEmpty\u001b[0m\u001b[0;34m(\u001b[0m\u001b[0;34m)\u001b[0m\u001b[0;34m)\u001b[0m\u001b[0;34m.\u001b[0m\u001b[0mmode\u001b[0m\u001b[0;34m\u001b[0m\u001b[0;34m\u001b[0m\u001b[0m\n\u001b[0m\u001b[1;32m     54\u001b[0m             \u001b[0;32mreturn\u001b[0m \u001b[0mmp_pb2\u001b[0m\u001b[0;34m.\u001b[0m\u001b[0mControlModePossiblities\u001b[0m\u001b[0;34m.\u001b[0m\u001b[0mkeys\u001b[0m\u001b[0;34m(\u001b[0m\u001b[0;34m)\u001b[0m\u001b[0;34m[\u001b[0m\u001b[0mmode_id\u001b[0m\u001b[0;34m]\u001b[0m\u001b[0;34m\u001b[0m\u001b[0;34m\u001b[0m\u001b[0m\n\u001b[1;32m     55\u001b[0m \u001b[0;34m\u001b[0m\u001b[0m\n",
      "\u001b[0;32m~/.local/lib/python3.8/site-packages/grpc/_channel.py\u001b[0m in \u001b[0;36m__call__\u001b[0;34m(self, request, timeout, metadata, credentials, wait_for_ready, compression)\u001b[0m\n\u001b[1;32m    944\u001b[0m         state, call, = self._blocking(request, timeout, metadata, credentials,\n\u001b[1;32m    945\u001b[0m                                       wait_for_ready, compression)\n\u001b[0;32m--> 946\u001b[0;31m         \u001b[0;32mreturn\u001b[0m \u001b[0m_end_unary_response_blocking\u001b[0m\u001b[0;34m(\u001b[0m\u001b[0mstate\u001b[0m\u001b[0;34m,\u001b[0m \u001b[0mcall\u001b[0m\u001b[0;34m,\u001b[0m \u001b[0;32mFalse\u001b[0m\u001b[0;34m,\u001b[0m \u001b[0;32mNone\u001b[0m\u001b[0;34m)\u001b[0m\u001b[0;34m\u001b[0m\u001b[0;34m\u001b[0m\u001b[0m\n\u001b[0m\u001b[1;32m    947\u001b[0m \u001b[0;34m\u001b[0m\u001b[0m\n\u001b[1;32m    948\u001b[0m     def with_call(self,\n",
      "\u001b[0;32m~/.local/lib/python3.8/site-packages/grpc/_channel.py\u001b[0m in \u001b[0;36m_end_unary_response_blocking\u001b[0;34m(state, call, with_call, deadline)\u001b[0m\n\u001b[1;32m    847\u001b[0m             \u001b[0;32mreturn\u001b[0m \u001b[0mstate\u001b[0m\u001b[0;34m.\u001b[0m\u001b[0mresponse\u001b[0m\u001b[0;34m\u001b[0m\u001b[0;34m\u001b[0m\u001b[0m\n\u001b[1;32m    848\u001b[0m     \u001b[0;32melse\u001b[0m\u001b[0;34m:\u001b[0m\u001b[0;34m\u001b[0m\u001b[0;34m\u001b[0m\u001b[0m\n\u001b[0;32m--> 849\u001b[0;31m         \u001b[0;32mraise\u001b[0m \u001b[0m_InactiveRpcError\u001b[0m\u001b[0;34m(\u001b[0m\u001b[0mstate\u001b[0m\u001b[0;34m)\u001b[0m\u001b[0;34m\u001b[0m\u001b[0;34m\u001b[0m\u001b[0m\n\u001b[0m\u001b[1;32m    850\u001b[0m \u001b[0;34m\u001b[0m\u001b[0m\n\u001b[1;32m    851\u001b[0m \u001b[0;34m\u001b[0m\u001b[0m\n",
      "\u001b[0;31m_InactiveRpcError\u001b[0m: <_InactiveRpcError of RPC that terminated with:\n\tstatus = StatusCode.UNKNOWN\n\tdetails = \"Exception calling application: Command '['ros2', 'param', 'get', '/zuuu_hal', 'control_mode']' returned non-zero exit status 1.\"\n\tdebug_error_string = \"{\"created\":\"@1657032523.157275714\",\"description\":\"Error received from peer ipv4:192.168.86.35:50061\",\"file\":\"src/core/lib/surface/call.cc\",\"file_line\":1066,\"grpc_message\":\"Exception calling application: Command '['ros2', 'param', 'get', '/zuuu_hal', 'control_mode']' returned non-zero exit status 1.\",\"grpc_status\":2}\"\n>"
     ]
    }
   ],
   "source": [
    "mobile_base = MobileBaseSDK('192.168.86.35') # Replace with your Reachy's IP address"
   ]
  },
  {
   "cell_type": "markdown",
   "id": "1de7665e",
   "metadata": {},
   "source": [
    "## At any time you can call the emergency stop if you have a problem with the mobile base\n",
    "\n",
    "**NOTE :** calling the *mobile_base.emergency_shutdown()* method will kill the mobile base's hal and sdk server.\n",
    "\n",
    "Thus, if you need to keep using the mobile base, you will need to use the *restart_hal* method."
   ]
  },
  {
   "cell_type": "code",
   "execution_count": 3,
   "id": "abdc51d2",
   "metadata": {},
   "outputs": [
    {
     "name": "stderr",
     "output_type": "stream",
     "text": [
      "Emergency shutdown executed.\n",
      "No command on the mobile base will work until you restarted its hal and sdk server.\n"
     ]
    }
   ],
   "source": [
    "mobile_base.emergency_shutdown()"
   ]
  },
  {
   "cell_type": "code",
   "execution_count": 10,
   "id": "a1404e81",
   "metadata": {},
   "outputs": [
    {
     "data": {
      "text/plain": [
       "<MobileBase host=\"192.168.86.35\" - version=1.0 - battery_voltage=\n",
       "        0.0 - drive mode=cmd_vel - control mode=open_loop>"
      ]
     },
     "execution_count": 10,
     "metadata": {},
     "output_type": "execute_result"
    }
   ],
   "source": [
    "mobile_base"
   ]
  },
  {
   "cell_type": "code",
   "execution_count": 6,
   "id": "67651590",
   "metadata": {},
   "outputs": [],
   "source": [
    "mobile_base.restart_hal()"
   ]
  },
  {
   "cell_type": "code",
   "execution_count": 3,
   "id": "37c86fd1",
   "metadata": {},
   "outputs": [
    {
     "data": {
      "text/plain": [
       "CompletedProcess(args=['source $HOME/reachy_tips/reachy_ros_config && systemctl restart --user reachy_mobile_base.service'], returncode=127, stdout=b'')"
      ]
     },
     "execution_count": 3,
     "metadata": {},
     "output_type": "execute_result"
    }
   ],
   "source": [
    "from subprocess import run, PIPE\n",
    "run(['systemctl restart --user reachy_mobile_base.service'], stdout=PIPE, shell=True)"
   ]
  },
  {
   "cell_type": "code",
   "execution_count": null,
   "id": "c51dc8ce",
   "metadata": {},
   "outputs": [],
   "source": [
    "print(run(['printenv'], stdout=PIPE, shell=True).stdout.decode())"
   ]
  },
  {
   "cell_type": "code",
   "execution_count": 16,
   "id": "53e01819",
   "metadata": {},
   "outputs": [
    {
     "name": "stdout",
     "output_type": "stream",
     "text": [
      "GJS_DEBUG_TOPICS=JS ERROR;JS LOG\n",
      "VIRTUALENVWRAPPER_WORKON_CD=1\n",
      "LESSOPEN=| /usr/bin/lesspipe %s\n",
      "WORKON_HOME=/home/reachy/.virtualenv\n",
      "USER=reachy\n",
      "LC_TIME=fr_FR.UTF-8\n",
      "MPLBACKEND=module://ipykernel.pylab.backend_inline\n",
      "SSH_AGENT_PID=1842\n",
      "XDG_SESSION_TYPE=x11\n",
      "SHLVL=1\n",
      "LD_LIBRARY_PATH=/home/reachy/reachy_ws/install/zuuu_interfaces/lib:/home/reachy/reachy_ws/install/reachy_msgs/lib:/usr/lib/x86_64-linux-gnu/gazebo-11/plugins:/opt/ros/foxy/opt/yaml_cpp_vendor/lib:/opt/ros/foxy/opt/rviz_ogre_vendor/lib:/opt/ros/foxy/lib/x86_64-linux-gnu:/opt/ros/foxy/lib\n",
      "HOME=/home/reachy\n",
      "OLDPWD=/home/reachy/dev/reachy-sdk-api\n",
      "DESKTOP_SESSION=ubuntu\n",
      "GIO_LAUNCHED_DESKTOP_FILE=/usr/share/applications/terminator.desktop\n",
      "ROS_PYTHON_VERSION=3\n",
      "GNOME_SHELL_SESSION_MODE=ubuntu\n",
      "GTK_MODULES=gail:atk-bridge\n",
      "PAGER=cat\n",
      "LC_MONETARY=fr_FR.UTF-8\n",
      "MANAGERPID=1663\n",
      "DBUS_SESSION_BUS_ADDRESS=unix:path=/run/user/1000/bus\n",
      "COLORTERM=truecolor\n",
      "TERMINATOR_DBUS_NAME=net.tenshu.Terminator21a9d5db22c73a993ff0b42f64b396873\n",
      "GIO_LAUNCHED_DESKTOP_FILE_PID=5136\n",
      "_colcon_cd_root=/home/reachy/ros2_install\n",
      "IM_CONFIG_PHASE=1\n",
      "COLCON_PREFIX_PATH=/home/reachy/ros_ws/install:/home/reachy/reachy_ws/install\n",
      "ROS_DISTRO=foxy\n",
      "LOGNAME=reachy\n",
      "JOURNAL_STREAM=8:47987\n",
      "_=/home/reachy/.local/bin/jupyter\n",
      "ROS_VERSION=2\n",
      "XDG_SESSION_CLASS=user\n",
      "USERNAME=reachy\n",
      "TERM=xterm-color\n",
      "GNOME_DESKTOP_SESSION_ID=this-is-deprecated\n",
      "ROS_LOCALHOST_ONLY=1\n",
      "WINDOWPATH=2\n",
      "PATH=/home/reachy/ros_ws/install/xacro/bin:/opt/ros/foxy/bin:/home/reachy/.local/bin:/usr/local/sbin:/usr/local/bin:/usr/sbin:/usr/bin:/sbin:/bin:/usr/games:/usr/local/games:/snap/bin:/home/reachy/.local/bin\n",
      "SESSION_MANAGER=local/reachy:@/tmp/.ICE-unix/1880,unix/reachy:/tmp/.ICE-unix/1880\n",
      "INVOCATION_ID=6995d75bfda34c51a8c9a2afccb8606d\n",
      "XDG_MENU_PREFIX=gnome-\n",
      "LC_ADDRESS=fr_FR.UTF-8\n",
      "XDG_RUNTIME_DIR=/run/user/1000\n",
      "DISPLAY=:0\n",
      "TERMINATOR_DBUS_PATH=/net/tenshu/Terminator2\n",
      "LANG=en_US.UTF-8\n",
      "XDG_CURRENT_DESKTOP=ubuntu:GNOME\n",
      "LC_TELEPHONE=fr_FR.UTF-8\n",
      "RMW_IMPLEMENTATION=\n",
      "XMODIFIERS=@im=ibus\n",
      "XDG_SESSION_DESKTOP=ubuntu\n",
      "XAUTHORITY=/run/user/1000/gdm/Xauthority\n",
      "LS_COLORS=rs=0:di=01;34:ln=01;36:mh=00:pi=40;33:so=01;35:do=01;35:bd=40;33;01:cd=40;33;01:or=40;31;01:mi=00:su=37;41:sg=30;43:ca=30;41:tw=30;42:ow=34;42:st=37;44:ex=01;32:*.tar=01;31:*.tgz=01;31:*.arc=01;31:*.arj=01;31:*.taz=01;31:*.lha=01;31:*.lz4=01;31:*.lzh=01;31:*.lzma=01;31:*.tlz=01;31:*.txz=01;31:*.tzo=01;31:*.t7z=01;31:*.zip=01;31:*.z=01;31:*.dz=01;31:*.gz=01;31:*.lrz=01;31:*.lz=01;31:*.lzo=01;31:*.xz=01;31:*.zst=01;31:*.tzst=01;31:*.bz2=01;31:*.bz=01;31:*.tbz=01;31:*.tbz2=01;31:*.tz=01;31:*.deb=01;31:*.rpm=01;31:*.jar=01;31:*.war=01;31:*.ear=01;31:*.sar=01;31:*.rar=01;31:*.alz=01;31:*.ace=01;31:*.zoo=01;31:*.cpio=01;31:*.7z=01;31:*.rz=01;31:*.cab=01;31:*.wim=01;31:*.swm=01;31:*.dwm=01;31:*.esd=01;31:*.jpg=01;35:*.jpeg=01;35:*.mjpg=01;35:*.mjpeg=01;35:*.gif=01;35:*.bmp=01;35:*.pbm=01;35:*.pgm=01;35:*.ppm=01;35:*.tga=01;35:*.xbm=01;35:*.xpm=01;35:*.tif=01;35:*.tiff=01;35:*.png=01;35:*.svg=01;35:*.svgz=01;35:*.mng=01;35:*.pcx=01;35:*.mov=01;35:*.mpg=01;35:*.mpeg=01;35:*.m2v=01;35:*.mkv=01;35:*.webm=01;35:*.ogm=01;35:*.mp4=01;35:*.m4v=01;35:*.mp4v=01;35:*.vob=01;35:*.qt=01;35:*.nuv=01;35:*.wmv=01;35:*.asf=01;35:*.rm=01;35:*.rmvb=01;35:*.flc=01;35:*.avi=01;35:*.fli=01;35:*.flv=01;35:*.gl=01;35:*.dl=01;35:*.xcf=01;35:*.xwd=01;35:*.yuv=01;35:*.cgm=01;35:*.emf=01;35:*.ogv=01;35:*.ogx=01;35:*.aac=00;36:*.au=00;36:*.flac=00;36:*.m4a=00;36:*.mid=00;36:*.midi=00;36:*.mka=00;36:*.mp3=00;36:*.mpc=00;36:*.ogg=00;36:*.ra=00;36:*.wav=00;36:*.oga=00;36:*.opus=00;36:*.spx=00;36:*.xspf=00;36:\n",
      "SSH_AUTH_SOCK=/run/user/1000/keyring/ssh\n",
      "AMENT_PREFIX_PATH=/home/reachy/reachy_ws/install/zuuu_interfaces:/home/reachy/reachy_ws/install/zuuu_hal:/home/reachy/reachy_ws/install/zuuu_description:/home/reachy/reachy_ws/install/rplidar_ros2:/home/reachy/reachy_ws/install/reachy_sdk_server:/home/reachy/reachy_ws/install/reachy_kinematics:/home/reachy/reachy_ws/install/reachy_controllers:/home/reachy/reachy_ws/install/gripper_controller:/home/reachy/reachy_ws/install/reachy_msgs:/home/reachy/reachy_ws/install/reachy_gazebo:/home/reachy/reachy_ws/install/reachy_focus:/home/reachy/reachy_ws/install/reachy_description:/home/reachy/reachy_ws/install/playground:/home/reachy/reachy_ws/install/mobile_base_sdk_server:/home/reachy/reachy_ws/install/grasping_bob:/home/reachy/reachy_ws/install/grasping:/home/reachy/reachy_ws/install/gazebo_orbita:/home/reachy/ros_ws/install/urdf_tutorial:/home/reachy/ros_ws/install/xacro:/home/reachy/ros_ws/install/turtle_tf2_py:/home/reachy/ros_ws/install/turtle_tf2_cpp:/home/reachy/ros_ws/install/learning_tf2_py:/home/reachy/ros_ws/install/joint_state_publisher_gui:/home/reachy/ros_ws/install/joint_state_publisher:/home/reachy/ros_ws/install/geometry_tutorials:/opt/ros/foxy\n",
      "SHELL=/bin/bash\n",
      "LC_NAME=fr_FR.UTF-8\n",
      "TERMINATOR_UUID=urn:uuid:72c37c2c-d5b6-4ffe-aaab-57f916b2a28e\n",
      "QT_ACCESSIBILITY=1\n",
      "GDMSESSION=ubuntu\n",
      "LESSCLOSE=/usr/bin/lesspipe %s %s\n",
      "VIRTUALENVWRAPPER_PROJECT_FILENAME=.project\n",
      "LC_MEASUREMENT=fr_FR.UTF-8\n",
      "VIRTUALENVWRAPPER_HOOK_DIR=/home/reachy/.virtualenv\n",
      "GPG_AGENT_INFO=/run/user/1000/gnupg/S.gpg-agent:0:1\n",
      "GJS_DEBUG_OUTPUT=stderr\n",
      "LC_IDENTIFICATION=fr_FR.UTF-8\n",
      "VIRTUALENVWRAPPER_SCRIPT=/home/reachy/.local/bin/virtualenvwrapper.sh\n",
      "QT_IM_MODULE=ibus\n",
      "GIT_PAGER=cat\n",
      "PWD=/home/reachy/dev/mobile-base-sdk/mobile_base_sdk/examples\n",
      "CLICOLOR=1\n",
      "XDG_CONFIG_DIRS=/etc/xdg/xdg-ubuntu:/etc/xdg\n",
      "XDG_DATA_DIRS=/usr/share/ubuntu:/usr/local/share/:/usr/share/:/var/lib/snapd/desktop\n",
      "JPY_PARENT_PID=27682\n",
      "PYTHONPATH=/home/reachy/reachy_ws/install/zuuu_interfaces/lib/python3.8/site-packages:/home/reachy/reachy_ws/install/zuuu_hal/lib/python3.8/site-packages:/home/reachy/reachy_ws/install/reachy_sdk_server/lib/python3.8/site-packages:/home/reachy/reachy_ws/install/reachy_kinematics/lib/python3.8/site-packages:/home/reachy/reachy_ws/install/reachy_controllers/lib/python3.8/site-packages:/home/reachy/reachy_ws/install/gripper_controller/lib/python3.8/site-packages:/home/reachy/reachy_ws/install/reachy_msgs/lib/python3.8/site-packages:/home/reachy/reachy_ws/install/reachy_focus/lib/python3.8/site-packages:/home/reachy/reachy_ws/install/playground/lib/python3.8/site-packages:/home/reachy/reachy_ws/install/mobile_base_sdk_server/lib/python3.8/site-packages:/home/reachy/reachy_ws/install/grasping_bob/lib/python3.8/site-packages:/home/reachy/reachy_ws/install/grasping/lib/python3.8/site-packages:/home/reachy/ros_ws/install/xacro/lib/python3.8/site-packages:/home/reachy/ros_ws/install/turtle_tf2_py/lib/python3.8/site-packages:/home/reachy/ros_ws/install/learning_tf2_py/lib/python3.8/site-packages:/home/reachy/ros_ws/install/joint_state_publisher_gui/lib/python3.8/site-packages:/home/reachy/ros_ws/install/joint_state_publisher/lib/python3.8/site-packages:/opt/ros/foxy/lib/python3.8/site-packages\n",
      "LC_NUMERIC=en_US.UTF-8\n",
      "REACHY_MODEL=full_kit\n",
      "LC_PAPER=fr_FR.UTF-8\n",
      "VTE_VERSION=6003\n",
      "CMAKE_PREFIX_PATH=/home/reachy/reachy_ws/install/zuuu_interfaces:/home/reachy/reachy_ws/install/zuuu_description:/home/reachy/reachy_ws/install/rplidar_ros2:/home/reachy/reachy_ws/install/reachy_msgs:/home/reachy/reachy_ws/install/reachy_gazebo:/home/reachy/reachy_ws/install/reachy_description:/home/reachy/reachy_ws/install/gazebo_orbita:/home/reachy/ros_ws/install/urdf_tutorial:/home/reachy/ros_ws/install/xacro:/home/reachy/ros_ws/install/turtle_tf2_cpp:/home/reachy/ros_ws/install/geometry_tutorials\n",
      "\n"
     ]
    }
   ],
   "source": [
    "print(run(['printenv'], stdout=PIPE, shell=True).stdout.decode())"
   ]
  },
  {
   "cell_type": "markdown",
   "id": "f2ebc9fe",
   "metadata": {},
   "source": [
    "## Utility commands\n",
    "\n",
    "Once the connection with the mobile base established, you have access to information such as the mobile base's model version, battery voltage, drive mode and control mode."
   ]
  },
  {
   "cell_type": "code",
   "execution_count": 9,
   "id": "8065d1df",
   "metadata": {},
   "outputs": [
    {
     "data": {
      "text/plain": [
       "<MobileBase host=\"192.168.86.35\" - version=1.0 - battery_voltage=\n",
       "        0.0 - drive mode=cmd_vel - control mode=open_loop>"
      ]
     },
     "execution_count": 9,
     "metadata": {},
     "output_type": "execute_result"
    }
   ],
   "source": [
    "mobile_base"
   ]
  },
  {
   "cell_type": "code",
   "execution_count": 4,
   "id": "178a8fe0",
   "metadata": {},
   "outputs": [
    {
     "data": {
      "text/plain": [
       "1.0"
      ]
     },
     "execution_count": 4,
     "metadata": {},
     "output_type": "execute_result"
    }
   ],
   "source": [
    "mobile_base.model_version"
   ]
  },
  {
   "cell_type": "code",
   "execution_count": 7,
   "id": "d22968a4",
   "metadata": {},
   "outputs": [
    {
     "data": {
      "text/plain": [
       "28.0"
      ]
     },
     "execution_count": 7,
     "metadata": {},
     "output_type": "execute_result"
    }
   ],
   "source": [
    "mobile_base.battery_voltage"
   ]
  },
  {
   "cell_type": "markdown",
   "id": "4a451ab8",
   "metadata": {},
   "source": [
    "## Control modes\n",
    "\n",
    "The control mode dictates the low level control strategy used by the mobile bases's hal.\n",
    "\n",
    "Two control modes are possible:\n",
    "* ***open_loop***(default mode): in this mode, the wheels are compliant and the control is smoother,\n",
    "\n",
    "\n",
    "* ***pid***: in this mode, the wheels are stiff and the control is more precise.\n",
    "\n",
    "The control mode on the mobile base can be get with the *control_mode* attribute:"
   ]
  },
  {
   "cell_type": "code",
   "execution_count": 7,
   "id": "44f39adc",
   "metadata": {},
   "outputs": [
    {
     "data": {
      "text/plain": [
       "'open_loop'"
      ]
     },
     "execution_count": 7,
     "metadata": {},
     "output_type": "execute_result"
    }
   ],
   "source": [
    "mobile_base.control_mode"
   ]
  },
  {
   "cell_type": "markdown",
   "id": "e056fb2b",
   "metadata": {},
   "source": [
    "The *control_mode* can also be set:"
   ]
  },
  {
   "cell_type": "code",
   "execution_count": 8,
   "id": "44b88bc1",
   "metadata": {},
   "outputs": [],
   "source": [
    "mobile_base.control_mode = 'pid'"
   ]
  },
  {
   "cell_type": "code",
   "execution_count": 9,
   "id": "0b6110a6",
   "metadata": {},
   "outputs": [
    {
     "data": {
      "text/plain": [
       "'pid'"
      ]
     },
     "execution_count": 9,
     "metadata": {},
     "output_type": "execute_result"
    }
   ],
   "source": [
    "mobile_base.control_mode"
   ]
  },
  {
   "cell_type": "markdown",
   "id": "dddf8dde",
   "metadata": {},
   "source": [
    "## Odometry\n",
    "\n",
    "You can have access to the mobile base odometry with the *odometry* attribute. The odometry is initialised when the *reachy_mobile_base.service* or the mobile base hal and sdk is started OR whenever the *reset_odometry* method is called."
   ]
  },
  {
   "cell_type": "markdown",
   "id": "d60f59f0",
   "metadata": {},
   "source": [
    "**NOTE:** x and y are in meters and theta is in degree."
   ]
  },
  {
   "cell_type": "code",
   "execution_count": 10,
   "id": "1b2d4536",
   "metadata": {},
   "outputs": [
    {
     "data": {
      "text/plain": [
       "{'x': 0.016, 'y': -0.008, 'theta': -4.342}"
      ]
     },
     "execution_count": 10,
     "metadata": {},
     "output_type": "execute_result"
    }
   ],
   "source": [
    "mobile_base.odometry"
   ]
  },
  {
   "cell_type": "code",
   "execution_count": 11,
   "id": "6cbc6ede",
   "metadata": {},
   "outputs": [],
   "source": [
    "mobile_base.reset_odometry()"
   ]
  },
  {
   "cell_type": "code",
   "execution_count": 12,
   "id": "972236af",
   "metadata": {},
   "outputs": [
    {
     "data": {
      "text/plain": [
       "{'x': 0.0, 'y': 0.0, 'theta': 0.0}"
      ]
     },
     "execution_count": 12,
     "metadata": {},
     "output_type": "execute_result"
    }
   ],
   "source": [
    "mobile_base.odometry"
   ]
  },
  {
   "cell_type": "markdown",
   "id": "3d0060d1",
   "metadata": {},
   "source": [
    "## Mobility commands\n",
    "\n",
    "Two methods are available to make send moving instructions to the mobile base:\n",
    "* **set_speed**: send translation speed instructions along the x and y axis (in m/s) and/or rotation speed (in deg/s) instruction to the mobile base. Note that the speed instructions will be applied for a **duration of 200ms**,\n",
    "\n",
    "\n",
    "* **goto**: send cartesian target point (x, y in meters) in the odometry frame and a desired orientation (theta in degree) for the mobile base."
   ]
  },
  {
   "cell_type": "markdown",
   "id": "a878e495",
   "metadata": {},
   "source": [
    "### set speed (x_vel in m/s, y_vel in m/s, rot_vel in deg/s)"
   ]
  },
  {
   "cell_type": "code",
   "execution_count": 13,
   "id": "3e07fb83",
   "metadata": {},
   "outputs": [],
   "source": [
    "mobile_base.set_speed(x_vel=0, y_vel=0, rot_vel=60)"
   ]
  },
  {
   "cell_type": "markdown",
   "id": "ef14a29f",
   "metadata": {},
   "source": [
    "### go to (x in m, y in m, theta in deg)\n",
    "Go to in the odometry frame. After an odometry reset the point (0,0) is the current position of the robot with, x is in front of the robot, y to the left and theta counter-clockwise."
   ]
  },
  {
   "cell_type": "code",
   "execution_count": 8,
   "id": "7728857a",
   "metadata": {},
   "outputs": [],
   "source": [
    "mobile_base.reset_odometry()\n",
    "mobile_base.goto(x=0, y=0, theta=90)"
   ]
  },
  {
   "cell_type": "markdown",
   "id": "7fca9b31",
   "metadata": {},
   "source": [
    "You can also have access to the distance between the mobile base and its last goto target with the *_distance_to_goto_goal* attribute. "
   ]
  },
  {
   "cell_type": "code",
   "execution_count": 18,
   "id": "0aeb3879",
   "metadata": {},
   "outputs": [
    {
     "data": {
      "text/plain": [
       "{'delta_x': 0.002, 'delta_y': -0.003, 'delta_theta': -2.672, 'distance': 0.004}"
      ]
     },
     "execution_count": 18,
     "metadata": {},
     "output_type": "execute_result"
    }
   ],
   "source": [
    "mobile_base._distance_to_goto_goal()"
   ]
  },
  {
   "cell_type": "markdown",
   "id": "ee42fc0a",
   "metadata": {},
   "source": [
    "## Advanced features\n",
    "\n",
    "Here we mention some features of the mobile base that we consider more advanced than the others presented in this notebook. More info on the mobile base documentation."
   ]
  },
  {
   "cell_type": "markdown",
   "id": "c343622e",
   "metadata": {},
   "source": [
    "### Drive mode\n",
    "The drive mode on the mobile base will impact the way the wheels behave and the way they will accept commands.\n",
    "\n",
    "Six drive modes are available for the mobile base:\n",
    "* **cmd_vel**: in this mode, speed instructions can be spammed to the wheels controllers. This mode is used for the *set_speed* method.\n",
    "* **brake**: in this mode, the wheels will be as stiff as possible.\n",
    "* **free_wheel**: in this mode, the wheels will be as compliant as possible.\n",
    "* **goto**: this mode is used for the *goto* method.\n",
    "* **emergency_stop**: in this mode, the wheels will stop receiving mobility commands. Switching to this mode will also stop the mobile base hal code. This is a safety mode. \n",
    "* **speed**: another mode to send speed instructions, but less frequently than with the cmd_vel mode. This mode is actually not used at this level (python SDK level), but is implemented at the ROS level, in case one might need it.\n",
    "\n",
    "The drive mode is handled automagically when requesting a set_speed or a goto. There are some cases where changing them by hand could be useful, such as making the mobile as compliant as possible (\"free_wheel\" mode) or the opposite (\"brake\" mode). For more details on all the available modes, check: https://github.com/pollen-robotics/zuuu_hal"
   ]
  },
  {
   "cell_type": "code",
   "execution_count": 20,
   "id": "709a0926",
   "metadata": {},
   "outputs": [
    {
     "data": {
      "text/plain": [
       "'go_to'"
      ]
     },
     "execution_count": 20,
     "metadata": {},
     "output_type": "execute_result"
    }
   ],
   "source": [
    "mobile_base.drive_mode"
   ]
  },
  {
   "cell_type": "code",
   "execution_count": 10,
   "id": "808db313",
   "metadata": {},
   "outputs": [],
   "source": [
    "mobile_base.drive_mode = \"free_wheel\""
   ]
  },
  {
   "cell_type": "code",
   "execution_count": 11,
   "id": "24e47dec",
   "metadata": {},
   "outputs": [],
   "source": [
    "mobile_base.drive_mode = \"brake\""
   ]
  },
  {
   "cell_type": "markdown",
   "id": "e5c0404b",
   "metadata": {},
   "source": [
    "### async goto\n",
    "\n",
    "An async version of the goto method is alvailable. It can be useful in cases where for example you want to combine a movement of the mobile base with a movement of reachy."
   ]
  },
  {
   "cell_type": "code",
   "execution_count": 19,
   "id": "2676b0f3",
   "metadata": {},
   "outputs": [],
   "source": [
    "await mobile_base.goto_async(x=0, y=0, theta=90)"
   ]
  }
 ],
 "metadata": {
  "kernelspec": {
   "display_name": "Python 3",
   "language": "python",
   "name": "python3"
  },
  "language_info": {
   "codemirror_mode": {
    "name": "ipython",
    "version": 3
   },
   "file_extension": ".py",
   "mimetype": "text/x-python",
   "name": "python",
   "nbconvert_exporter": "python",
   "pygments_lexer": "ipython3",
   "version": "3.8.10"
  }
 },
 "nbformat": 4,
 "nbformat_minor": 5
}
