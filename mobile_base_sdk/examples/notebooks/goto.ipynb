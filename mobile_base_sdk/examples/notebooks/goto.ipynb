{
 "cells": [
  {
   "cell_type": "markdown",
   "id": "3be7fb53",
   "metadata": {},
   "source": [
    "# goto example notebook\n",
    "\n",
    "This notebook explores the 'go to' functionnality by drawing a square and playing around with the odometry frame.\n",
    "\n",
    "Connect to the mobile base:\n"
   ]
  },
  {
   "cell_type": "code",
   "execution_count": null,
   "id": "e11af457",
   "metadata": {},
   "outputs": [],
   "source": [
    "from mobile_base_sdk import MobileBaseSDK\n",
    "mobile_base = MobileBaseSDK('localhost') # Replace with your Reachy's IP address"
   ]
  },
  {
   "cell_type": "markdown",
   "id": "7d6a5711",
   "metadata": {},
   "source": [
    "## odometry frame\n",
    "The odometry frame is a world fixed frame. Its initial position is the position the robot was when the mobile base Hardware Abstraction Layer (HAL) was started. When the wheels of the robot rotate, the odometry calculations are made incrementaly and the position of the robot in the odometry frame is updated. This position can be read with:"
   ]
  },
  {
   "cell_type": "code",
   "execution_count": null,
   "id": "1b2d4536",
   "metadata": {},
   "outputs": [],
   "source": [
    "mobile_base.odometry"
   ]
  },
  {
   "cell_type": "markdown",
   "id": "816ae334",
   "metadata": {},
   "source": [
    "The position of the odometry frame can be changed to the current position of the robot with:"
   ]
  },
  {
   "cell_type": "code",
   "execution_count": null,
   "id": "6cbc6ede",
   "metadata": {},
   "outputs": [],
   "source": [
    "mobile_base.reset_odometry()"
   ]
  },
  {
   "cell_type": "code",
   "execution_count": null,
   "id": "d3b9b05c",
   "metadata": {},
   "outputs": [],
   "source": [
    "mobile_base.odometry"
   ]
  },
  {
   "cell_type": "markdown",
   "id": "e143fc51",
   "metadata": {},
   "source": [
    "**Note:** By its nature, the position estimated with the odomtry calculations will drift over time as the wheels will slighlty slip on the ground and small calculations errors will accumulate. The odometry position should never be relied upon alone for long distances."
   ]
  },
  {
   "cell_type": "markdown",
   "id": "3d0060d1",
   "metadata": {},
   "source": [
    "## Drawing a square with 'goto' commands\n",
    "\n",
    "**The goto command sends cartesian target point** (x, y in meters) in the odometry frame and a desired orientation (theta in degree) for the mobile base.\n",
    "Start by setting a goal position at the current position, and try pushing the robot. The robot should resit (a bit), and come back to its initial position once you stop pushing it."
   ]
  },
  {
   "cell_type": "code",
   "execution_count": null,
   "id": "7728857a",
   "metadata": {},
   "outputs": [],
   "source": [
    "mobile_base.reset_odometry()\n",
    "mobile_base.goto(x=0, y=0, theta=0)"
   ]
  },
  {
   "cell_type": "markdown",
   "id": "c663e669",
   "metadata": {},
   "source": [
    "**Note:** the LIDAR safety is always on by default, so some 'goto' commands might not reach their final destination if there is an obstacle in its path\n",
    "\n",
    "At any time, the the distances between the goal position and the current position can be read with:"
   ]
  },
  {
   "cell_type": "code",
   "execution_count": null,
   "id": "8f23bd3f",
   "metadata": {},
   "outputs": [],
   "source": [
    "mobile_base._distance_to_goto_goal()"
   ]
  },
  {
   "cell_type": "markdown",
   "id": "565eb7ab",
   "metadata": {},
   "source": [
    "If you want to move the robot by hand before drawing the square, use the free_wheel mode:"
   ]
  },
  {
   "cell_type": "code",
   "execution_count": null,
   "id": "6637e910",
   "metadata": {},
   "outputs": [],
   "source": [
    "mobile_base.drive_mode='free_wheel'"
   ]
  },
  {
   "cell_type": "markdown",
   "id": "eae48e7e",
   "metadata": {},
   "source": [
    "**Drawing a 0.5x0.5m square, with a constant orientation.** Please be careful as the robot will move in front of it first, then to its left, then back, then to its right:"
   ]
  },
  {
   "cell_type": "code",
   "execution_count": null,
   "id": "9d05089d",
   "metadata": {},
   "outputs": [],
   "source": [
    "mobile_base.reset_odometry()\n",
    "mobile_base.goto(x=0, y=0, theta=0)"
   ]
  },
  {
   "cell_type": "code",
   "execution_count": null,
   "id": "3a5f5ed0",
   "metadata": {},
   "outputs": [],
   "source": [
    "mobile_base.goto(x=0.5, y=0, theta=0)"
   ]
  },
  {
   "cell_type": "code",
   "execution_count": null,
   "id": "3fc376b9",
   "metadata": {},
   "outputs": [],
   "source": [
    "mobile_base.goto(x=0.5, y=0.5, theta=0)"
   ]
  },
  {
   "cell_type": "code",
   "execution_count": null,
   "id": "3fb22344",
   "metadata": {},
   "outputs": [],
   "source": [
    "mobile_base.goto(x=0.0, y=0.5, theta=0)"
   ]
  },
  {
   "cell_type": "code",
   "execution_count": null,
   "id": "45647336",
   "metadata": {},
   "outputs": [],
   "source": [
    "mobile_base.goto(x=0.0, y=0.0, theta=0)"
   ]
  },
  {
   "cell_type": "markdown",
   "id": "d0db62d6",
   "metadata": {},
   "source": [
    "**Drawing a 0.5x0.5m square, with a constant orientation.** Please be careful as the robot will move in front of it first, then to its left, then back, then to its right:"
   ]
  },
  {
   "cell_type": "code",
   "execution_count": null,
   "id": "3b7cc48d",
   "metadata": {},
   "outputs": [],
   "source": [
    "mobile_base.reset_odometry()\n",
    "mobile_base.goto(x=0, y=0, theta=90)"
   ]
  },
  {
   "cell_type": "code",
   "execution_count": null,
   "id": "285baff5",
   "metadata": {},
   "outputs": [],
   "source": [
    "mobile_base.goto(x=0.5, y=0, theta=180)"
   ]
  },
  {
   "cell_type": "code",
   "execution_count": null,
   "id": "fa9d8012",
   "metadata": {},
   "outputs": [],
   "source": [
    "mobile_base.goto(x=0.5, y=0.5, theta=270)"
   ]
  },
  {
   "cell_type": "code",
   "execution_count": null,
   "id": "409a0b69",
   "metadata": {},
   "outputs": [],
   "source": [
    "mobile_base.goto(x=0.0, y=0.5, theta=0)"
   ]
  },
  {
   "cell_type": "code",
   "execution_count": null,
   "id": "b8ab4969",
   "metadata": {},
   "outputs": [],
   "source": [
    "mobile_base.goto(x=0.0, y=0.0, theta=0)"
   ]
  },
  {
   "cell_type": "markdown",
   "id": "a34a1f88",
   "metadata": {},
   "source": [
    "**Advanced options:** By default, the goto function is blocking until either the goal is reached or a timeout is reached. Test the previous behavior when all the commands are executed as soon as possible:"
   ]
  },
  {
   "cell_type": "code",
   "execution_count": null,
   "id": "bc928e47",
   "metadata": {},
   "outputs": [],
   "source": [
    "mobile_base.reset_odometry()\n",
    "mobile_base.goto(x=0, y=0, theta=90)\n",
    "\n",
    "mobile_base.goto(x=0.5, y=0, theta=180)\n",
    "\n",
    "mobile_base.goto(x=0.5, y=0.5, theta=270)\n",
    "\n",
    "mobile_base.goto(x=0.0, y=0.5, theta=0)\n",
    "\n",
    "mobile_base.goto(x=0.0, y=0.0, theta=0)"
   ]
  },
  {
   "cell_type": "markdown",
   "id": "245443ba",
   "metadata": {},
   "source": [
    "**Same example with unreachable custom tolerances**. In this case, the 'goto' blocks until the timeout is reached:"
   ]
  },
  {
   "cell_type": "code",
   "execution_count": null,
   "id": "485e3cd9",
   "metadata": {},
   "outputs": [],
   "source": [
    "mobile_base.reset_odometry()\n",
    "mobile_base.goto(x=0, y=0, theta=90, tolerance={'delta_x':0.0, 'delta_y':0.0, 'delta_theta':0.0, 'distance':0.0})\n",
    "\n",
    "mobile_base.goto(x=0.5, y=0, theta=180, tolerance={'delta_x':0.0, 'delta_y':0.0, 'delta_theta':0.0, 'distance':0.0})\n",
    "\n",
    "mobile_base.goto(x=0.5, y=0.5, theta=270, tolerance={'delta_x':0.0, 'delta_y':0.0, 'delta_theta':0.0, 'distance':0.0})\n",
    "\n",
    "mobile_base.goto(x=0.0, y=0.5, theta=0, tolerance={'delta_x':0.0, 'delta_y':0.0, 'delta_theta':0.0, 'distance':0.0})\n",
    "\n",
    "mobile_base.goto(x=0.0, y=0.0, theta=0, tolerance={'delta_x':0.0, 'delta_y':0.0, 'delta_theta':0.0, 'distance':0.0})"
   ]
  },
  {
   "cell_type": "markdown",
   "id": "75136f72",
   "metadata": {},
   "source": [
    "**Same example but with a short timeout**, note that the trajectory is deformed as the commands are sent before the robot gets close the its destinations"
   ]
  },
  {
   "cell_type": "code",
   "execution_count": null,
   "id": "b13ab71c",
   "metadata": {},
   "outputs": [],
   "source": [
    "mobile_base.reset_odometry()\n",
    "mobile_base.goto(x=0, y=0, theta=90, timeout=0.75)\n",
    "\n",
    "mobile_base.goto(x=0.5, y=0, theta=180, timeout=0.75)\n",
    "\n",
    "mobile_base.goto(x=0.5, y=0.5, theta=270, timeout=0.75)\n",
    "\n",
    "mobile_base.goto(x=0.0, y=0.5, theta=0, timeout=0.75)\n",
    "\n",
    "mobile_base.goto(x=0.0, y=0.0, theta=0, timeout=0.75)"
   ]
  },
  {
   "cell_type": "markdown",
   "id": "3d79b0d9",
   "metadata": {},
   "source": [
    "By default, the 'goto' function will reject a command if the goal position is too far from the current position along x or y. This is mainly to avoid human mistakes, such as typing '5.0' instead of '0.5'. This maximum value can be read and changed as follows:"
   ]
  },
  {
   "cell_type": "code",
   "execution_count": null,
   "id": "0a2b932b",
   "metadata": {},
   "outputs": [],
   "source": [
    "mobile_base._max_xy_goto"
   ]
  },
  {
   "cell_type": "code",
   "execution_count": null,
   "id": "432856b1",
   "metadata": {},
   "outputs": [],
   "source": [
    "mobile_base._max_xy_goto=1.5"
   ]
  }
 ],
 "metadata": {
  "kernelspec": {
   "display_name": "Python 3 (ipykernel)",
   "language": "python",
   "name": "python3"
  },
  "language_info": {
   "codemirror_mode": {
    "name": "ipython",
    "version": 3
   },
   "file_extension": ".py",
   "mimetype": "text/x-python",
   "name": "python",
   "nbconvert_exporter": "python",
   "pygments_lexer": "ipython3",
   "version": "3.8.10"
  }
 },
 "nbformat": 4,
 "nbformat_minor": 5
}
