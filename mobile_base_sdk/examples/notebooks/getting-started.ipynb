{
 "cells": [
  {
   "cell_type": "markdown",
   "id": "3be7fb53",
   "metadata": {},
   "source": [
    "# Getting started with mobile-base-sdk\n",
    "\n",
    "This notebook will help you get your hands on Reachy's mobile base's sdk python api.\n",
    "\n",
    "You will learn how to connect to Reachy's mobile base, access basic information, send movement commands\n",
    "and check advanced features.\n",
    "\n",
    "For more information, check [Reachy's online documentation](https://docs.pollen-robotics.com/)."
   ]
  },
  {
   "cell_type": "markdown",
   "id": "3d2ba123",
   "metadata": {},
   "source": [
    "## Connect to the mobile base\n",
    "\n",
    "With just two lines of code you can connect to Reachy's mobile base. Just like with [ReachySDK](https://docs.pollen-robotics.com/sdk/getting-started/introduction/), you can connect to the mobile base from any computer as long it is\n",
    "on the same network as Reachy."
   ]
  },
  {
   "cell_type": "code",
   "execution_count": null,
   "id": "e11af457",
   "metadata": {},
   "outputs": [],
   "source": [
    "from mobile_base_sdk import MobileBaseSDK"
   ]
  },
  {
   "cell_type": "markdown",
   "id": "1e492ff9",
   "metadata": {},
   "source": [
    "The communication with the mobile base using its SDK goes through the instanciation of the MobileBaseSDK object.\n",
    "MobileBaseSDK takes only one argument at initialisation, Reachy's IP address on the network. If you need help to find Reachy's IP address, check out the [Finding Reachy's IP section](https://docs.pollen-robotics.com/help/system/find-my-ip/) from the online documentation. If you're working directly on Reachy, you can just put *'localhost'* as IP address, like the example below."
   ]
  },
  {
   "cell_type": "code",
   "execution_count": null,
   "id": "b5649903",
   "metadata": {},
   "outputs": [],
   "source": [
    "mobile_base = MobileBaseSDK('192.168.86.35') # Replace with your Reachy's IP address"
   ]
  },
  {
   "cell_type": "markdown",
   "id": "1de7665e",
   "metadata": {},
   "source": [
    "## At any time you can call the emergency stop if you have a problem with the mobile base\n",
    "\n",
    "The mobile base will immediately stop moving."
   ]
  },
  {
   "cell_type": "code",
   "execution_count": null,
   "id": "abdc51d2",
   "metadata": {},
   "outputs": [],
   "source": [
    "mobile_base.emergency_shutdown()"
   ]
  },
  {
   "cell_type": "markdown",
   "id": "f2ebc9fe",
   "metadata": {},
   "source": [
    "## Utility commands\n",
    "\n",
    "Once the connection with the mobile base established, you have access to information such as the mobile base's model version, battery voltage, drive mode and control mode."
   ]
  },
  {
   "cell_type": "code",
   "execution_count": null,
   "id": "8065d1df",
   "metadata": {},
   "outputs": [],
   "source": [
    "mobile_base"
   ]
  },
  {
   "cell_type": "code",
   "execution_count": null,
   "id": "178a8fe0",
   "metadata": {},
   "outputs": [],
   "source": [
    "mobile_base.model_version"
   ]
  },
  {
   "cell_type": "code",
   "execution_count": null,
   "id": "d22968a4",
   "metadata": {},
   "outputs": [],
   "source": [
    "mobile_base.battery_voltage"
   ]
  },
  {
   "cell_type": "markdown",
   "id": "dddf8dde",
   "metadata": {},
   "source": [
    "## Odometry\n",
    "\n",
    "You can have access to the mobile base odometry with the *odometry* attribute. The odometry is initialised when the *reachy_mobile_base.service* or the mobile base hal and sdk is started OR whenever the *reset_odometry* method is called."
   ]
  },
  {
   "cell_type": "markdown",
   "id": "7d6a5711",
   "metadata": {},
   "source": [
    "**NOTE:** x and y are in meters and theta is in degree."
   ]
  },
  {
   "cell_type": "code",
   "execution_count": null,
   "id": "1b2d4536",
   "metadata": {},
   "outputs": [],
   "source": [
    "mobile_base.odometry"
   ]
  },
  {
   "cell_type": "code",
   "execution_count": null,
   "id": "6cbc6ede",
   "metadata": {},
   "outputs": [],
   "source": [
    "mobile_base.reset_odometry()"
   ]
  },
  {
   "cell_type": "code",
   "execution_count": null,
   "id": "d3b9b05c",
   "metadata": {},
   "outputs": [],
   "source": [
    "mobile_base.odometry"
   ]
  },
  {
   "cell_type": "markdown",
   "id": "3d0060d1",
   "metadata": {},
   "source": [
    "## Mobility commands\n",
    "\n",
    "Two methods are available to send moving instructions to the mobile base:\n",
    "* **set_speed**: send translation speed instructions along the x and y axis (in m/s) and/or a rotation speed (in deg/s) instruction to the mobile base. Note that the speed instructions will be applied for a **duration of 200ms** by default, so the idea here is to spam speed commands. To test this function, run the 'joy_controller.py' code and pilot the robot with the joysticks.\n",
    "\n",
    "\n",
    "* **goto**: send a cartesian target point (x, y in meters) in the odometry frame and a desired orientation (theta in degree) for the mobile base.\n",
    "\n",
    "**Note that the LIDAR is used by default to prevent collisions**. More details in the lidar-safety notebook."
   ]
  },
  {
   "cell_type": "markdown",
   "id": "ef14a29f",
   "metadata": {},
   "source": [
    "### go to (x in m, y in m, theta in deg)\n",
    "'Go to' in the odometry frame. After an odometry reset, the point (0,0) is the current position of the robot with: x is in front of the robot, y to the left and theta positive in the counter-clockwise direction."
   ]
  },
  {
   "cell_type": "code",
   "execution_count": null,
   "id": "7728857a",
   "metadata": {},
   "outputs": [],
   "source": [
    "mobile_base.reset_odometry()\n",
    "mobile_base.goto(x=0, y=0, theta=90)"
   ]
  },
  {
   "cell_type": "markdown",
   "id": "c663e669",
   "metadata": {},
   "source": [
    "You can also have access to the distance between the mobile base and its last goto target with the *_distance_to_goto_goal* attribute. "
   ]
  },
  {
   "cell_type": "code",
   "execution_count": null,
   "id": "8f23bd3f",
   "metadata": {},
   "outputs": [],
   "source": [
    "mobile_base._distance_to_goto_goal()"
   ]
  },
  {
   "cell_type": "code",
   "execution_count": null,
   "id": "b69285e7",
   "metadata": {},
   "outputs": [],
   "source": []
  }
 ],
 "metadata": {
  "kernelspec": {
   "display_name": "Python 3",
   "language": "python",
   "name": "python3"
  },
  "language_info": {
   "codemirror_mode": {
    "name": "ipython",
    "version": 3
   },
   "file_extension": ".py",
   "mimetype": "text/x-python",
   "name": "python",
   "nbconvert_exporter": "python",
   "pygments_lexer": "ipython3",
   "version": "3.8.10"
  }
 },
 "nbformat": 4,
 "nbformat_minor": 5
}
