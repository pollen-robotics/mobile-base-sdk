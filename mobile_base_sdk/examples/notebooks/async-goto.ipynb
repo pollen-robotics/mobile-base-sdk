{
 "cells": [
  {
   "cell_type": "markdown",
   "id": "b0af65b5",
   "metadata": {},
   "source": [
    "# [advanced] goto_async example notebook\n",
    "\n",
    "In [this notebook](https://github.com/pollen-robotics/mobile-base-sdk/blob/main/mobile_base_sdk/examples/notebooks/goto.ipynb) you learned how to use the *goto* method of the mobile base SDK.\n",
    "\n",
    "This method is blocking to prevent multiple goto instructions to be sent to the mobile base at the same time. \n",
    "But there are cases when one might find useful to have the goto as an asynchronous method, for example when you want to combine a movement of the mobile with other tasks like moving an arm of Reachy, that is where *goto_async* comes in place."
   ]
  },
  {
   "cell_type": "markdown",
   "id": "cabe15a7",
   "metadata": {},
   "source": [
    "As in the other notebooks, you will have to connect to the mobile base first."
   ]
  },
  {
   "cell_type": "code",
   "execution_count": null,
   "id": "1b33ddd1",
   "metadata": {},
   "outputs": [],
   "source": [
    "from mobile_base_sdk import MobileBaseSDK\n",
    "\n",
    "mobile_base = MobileBaseSDK('192.168.86.35') # change with your Reachy's IP"
   ]
  },
  {
   "cell_type": "markdown",
   "id": "e1b18bdb",
   "metadata": {},
   "source": [
    "Then you will need to import *asyncio*, the Python library to work with asynchronous stuff.\n",
    "\n",
    "To learn how to use *asyncio*, you can check its [Python documentation](https://docs.python.org/3/library/asyncio.html)."
   ]
  },
  {
   "cell_type": "code",
   "execution_count": null,
   "id": "11da9086",
   "metadata": {},
   "outputs": [],
   "source": [
    "import asyncio"
   ]
  },
  {
   "cell_type": "markdown",
   "id": "81931da1",
   "metadata": {},
   "source": [
    "Apart from being asynchronous, *goto_async* is used just like *goto* by just giving a x, y and orientation target in the odom frame of the mobile base. The function will require a timeout that you will have to define. The async function will be blocking for the duration of the timeout. If you don't want to have the *goto_async* blocking, you can just put a very small timeout."
   ]
  },
  {
   "cell_type": "code",
   "execution_count": null,
   "id": "37c149f2",
   "metadata": {},
   "outputs": [],
   "source": [
    "mobile_base.reset_odometry()\n",
    "\n",
    "await mobile_base.goto_async(x=0, y=0, theta=-90, timeout=0.1)"
   ]
  },
  {
   "cell_type": "markdown",
   "id": "4ee4b117",
   "metadata": {},
   "source": [
    "Check [this notebook](https://github.com/pollen-robotics/mobile-base-sdk/blob/main/mobile_base_sdk/examples/notebooks/control-reachy-and-mobile-base-simultaneously.ipynb) if you want to see an example of how to combine a movemement of the mobile with a movement of Reachy!"
   ]
  }
 ],
 "metadata": {
  "kernelspec": {
   "display_name": "Python 3",
   "language": "python",
   "name": "python3"
  },
  "language_info": {
   "codemirror_mode": {
    "name": "ipython",
    "version": 3
   },
   "file_extension": ".py",
   "mimetype": "text/x-python",
   "name": "python",
   "nbconvert_exporter": "python",
   "pygments_lexer": "ipython3",
   "version": "3.8.10"
  }
 },
 "nbformat": 4,
 "nbformat_minor": 5
}
