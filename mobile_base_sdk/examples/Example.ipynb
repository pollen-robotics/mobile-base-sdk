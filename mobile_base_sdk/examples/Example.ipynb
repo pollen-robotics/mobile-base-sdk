{
 "cells": [
  {
   "cell_type": "code",
   "execution_count": 1,
   "id": "e11af457",
   "metadata": {},
   "outputs": [],
   "source": [
    "from mobile_base import MobileBaseSDK"
   ]
  },
  {
   "cell_type": "code",
   "execution_count": 2,
   "id": "b5649903",
   "metadata": {},
   "outputs": [],
   "source": [
    "mobile_base = MobileBaseSDK('localhost')"
   ]
  },
  {
   "cell_type": "code",
   "execution_count": 3,
   "id": "8065d1df",
   "metadata": {},
   "outputs": [
    {
     "data": {
      "text/plain": [
       "<MobileBase host=\"localhost\" battery_level=27.9\n",
       "        drive mode=CMD_VEL control mode=OPEN_LOOP>"
      ]
     },
     "execution_count": 3,
     "metadata": {},
     "output_type": "execute_result"
    }
   ],
   "source": [
    "mobile_base"
   ]
  },
  {
   "cell_type": "code",
   "execution_count": 3,
   "id": "178a8fe0",
   "metadata": {},
   "outputs": [
    {
     "data": {
      "text/plain": [
       "1.0"
      ]
     },
     "execution_count": 3,
     "metadata": {},
     "output_type": "execute_result"
    }
   ],
   "source": [
    "mobile_base.model_version"
   ]
  },
  {
   "cell_type": "code",
   "execution_count": 3,
   "id": "44f39adc",
   "metadata": {},
   "outputs": [
    {
     "data": {
      "text/plain": [
       "'OPEN_LOOP'"
      ]
     },
     "execution_count": 3,
     "metadata": {},
     "output_type": "execute_result"
    }
   ],
   "source": [
    "mobile_base.control_mode"
   ]
  },
  {
   "cell_type": "code",
   "execution_count": 4,
   "id": "3e07fb83",
   "metadata": {},
   "outputs": [],
   "source": [
    "mobile_base.set_speed(0, 0, -1.5, 0)"
   ]
  },
  {
   "cell_type": "code",
   "execution_count": 4,
   "id": "7728857a",
   "metadata": {},
   "outputs": [],
   "source": [
    "mobile_base.emergency_shutdown()"
   ]
  },
  {
   "cell_type": "code",
   "execution_count": 3,
   "id": "26523068",
   "metadata": {},
   "outputs": [
    {
     "data": {
      "text/plain": [
       "{'x': -0.007904427126049995,\n",
       " 'y': -0.004449585918337107,\n",
       " 'theta': -0.02315443381667137}"
      ]
     },
     "execution_count": 3,
     "metadata": {},
     "output_type": "execute_result"
    }
   ],
   "source": [
    "mobile_base.odometry"
   ]
  },
  {
   "cell_type": "code",
   "execution_count": 3,
   "id": "e8cd06f2",
   "metadata": {},
   "outputs": [],
   "source": [
    "mobile_base.go_to(0, 0, 1.4)"
   ]
  },
  {
   "cell_type": "code",
   "execution_count": 4,
   "id": "cc4960bc",
   "metadata": {},
   "outputs": [],
   "source": [
    "mobile_base.reset_odometry()"
   ]
  },
  {
   "cell_type": "code",
   "execution_count": 3,
   "id": "1a540ec4",
   "metadata": {},
   "outputs": [
    {
     "data": {
      "text/plain": [
       "'CMD_VEL'"
      ]
     },
     "execution_count": 3,
     "metadata": {},
     "output_type": "execute_result"
    }
   ],
   "source": [
    "mobile_base.drive_mode"
   ]
  },
  {
   "cell_type": "code",
   "execution_count": 3,
   "id": "7224de30",
   "metadata": {},
   "outputs": [
    {
     "data": {
      "text/plain": [
       "'OPEN_LOOP'"
      ]
     },
     "execution_count": 3,
     "metadata": {},
     "output_type": "execute_result"
    }
   ],
   "source": [
    "mobile_base.control_mode"
   ]
  },
  {
   "cell_type": "code",
   "execution_count": 3,
   "id": "9ac0e17d",
   "metadata": {},
   "outputs": [
    {
     "data": {
      "text/plain": [
       "26.7"
      ]
     },
     "execution_count": 3,
     "metadata": {},
     "output_type": "execute_result"
    }
   ],
   "source": [
    "mobile_base.battery_level"
   ]
  },
  {
   "cell_type": "code",
   "execution_count": 4,
   "id": "2c64905a",
   "metadata": {},
   "outputs": [],
   "source": [
    "from mobile_platform_reachy_pb2 import ControlModePossiblities"
   ]
  },
  {
   "cell_type": "code",
   "execution_count": 7,
   "id": "ed449939",
   "metadata": {},
   "outputs": [
    {
     "data": {
      "text/plain": [
       "['NONE_CONTROL_MODE', 'OPEN_LOOP', 'PID']"
      ]
     },
     "execution_count": 7,
     "metadata": {},
     "output_type": "execute_result"
    }
   ],
   "source": [
    "ControlModePossiblities.keys()"
   ]
  },
  {
   "cell_type": "code",
   "execution_count": 3,
   "id": "ac03d9a5",
   "metadata": {},
   "outputs": [],
   "source": [
    "a = 0.0"
   ]
  },
  {
   "cell_type": "code",
   "execution_count": 4,
   "id": "329310c6",
   "metadata": {},
   "outputs": [
    {
     "name": "stdout",
     "output_type": "stream",
     "text": [
      "bob\n"
     ]
    }
   ],
   "source": [
    "if not a:\n",
    "    print('bob')"
   ]
  },
  {
   "cell_type": "code",
   "execution_count": 16,
   "id": "fb2d512f",
   "metadata": {},
   "outputs": [],
   "source": [
    "class Name:\n",
    "    def __init__(self, name):\n",
    "        self._name = name\n",
    "    def yo(self):\n",
    "        print('Yo')\n",
    "    \n",
    "    @property\n",
    "    def name(self):\n",
    "        return self._name\n",
    "    \n",
    "    @name.setter\n",
    "    def name(self, new_name):\n",
    "        self._name = new_name"
   ]
  },
  {
   "cell_type": "code",
   "execution_count": 17,
   "id": "abaa478a",
   "metadata": {},
   "outputs": [],
   "source": [
    "bob = Name('bob')"
   ]
  },
  {
   "cell_type": "code",
   "execution_count": 9,
   "id": "efaef1c4",
   "metadata": {},
   "outputs": [],
   "source": [
    "bob.name = 'Robert'"
   ]
  },
  {
   "cell_type": "code",
   "execution_count": 10,
   "id": "93ceebd1",
   "metadata": {},
   "outputs": [
    {
     "data": {
      "text/plain": [
       "'Robert'"
      ]
     },
     "execution_count": 10,
     "metadata": {},
     "output_type": "execute_result"
    }
   ],
   "source": [
    "bob.name"
   ]
  },
  {
   "cell_type": "code",
   "execution_count": null,
   "id": "262ab1c4",
   "metadata": {},
   "outputs": [],
   "source": [
    "bob."
   ]
  }
 ],
 "metadata": {
  "kernelspec": {
   "display_name": "Python 3",
   "language": "python",
   "name": "python3"
  },
  "language_info": {
   "codemirror_mode": {
    "name": "ipython",
    "version": 3
   },
   "file_extension": ".py",
   "mimetype": "text/x-python",
   "name": "python",
   "nbconvert_exporter": "python",
   "pygments_lexer": "ipython3",
   "version": "3.8.10"
  }
 },
 "nbformat": 4,
 "nbformat_minor": 5
}
