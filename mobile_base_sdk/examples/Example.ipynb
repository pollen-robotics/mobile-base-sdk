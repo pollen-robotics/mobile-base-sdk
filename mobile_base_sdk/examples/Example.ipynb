{
 "cells": [
  {
   "cell_type": "markdown",
   "id": "3be7fb53",
   "metadata": {},
   "source": [
    "# mobile-base-sdk example notebook\n",
    "\n",
    "This notebook present aims at helping you get your hands on Reachy's mobile base's sdk python api.\n",
    "\n",
    "You will learn how to connect to Reachy's mobile base, access basic information, send movement commands\n",
    "and check advanced features.\n",
    "\n",
    "For more information, check [Reachy's online documentation](https://docs.pollen-robotics.com/)."
   ]
  },
  {
   "cell_type": "markdown",
   "id": "3d2ba123",
   "metadata": {},
   "source": [
    "## Connect to the mobile base\n",
    "\n",
    "With just two lines of code you can connect to Reachy's mobile base. Just like with [ReachySDK](https://docs.pollen-robotics.com/sdk/getting-started/introduction/), you can connect to the mobile base from any computer as long it is\n",
    "on the same network as Reachy."
   ]
  },
  {
   "cell_type": "code",
   "execution_count": 1,
   "id": "e11af457",
   "metadata": {},
   "outputs": [],
   "source": [
    "from mobile_base_sdk import MobileBaseSDK"
   ]
  },
  {
   "cell_type": "markdown",
   "id": "1e492ff9",
   "metadata": {},
   "source": [
    "The communication with the mobile base using its SDK goes through the instaciation of the MobileBaseSDK object.\n",
    "MobileBaseSDK takes only one argument at initialisation, Reachy's IP address on the network. If you need help to find Reachy's IP address, check out the [Finding Reachy's IP section](https://docs.pollen-robotics.com/help/system/find-my-ip/) from the online documentation. If you're working directly on Reachy, you can just put *'localhost'* as IP address, like the example below."
   ]
  },
  {
   "cell_type": "code",
   "execution_count": 2,
   "id": "b5649903",
   "metadata": {},
   "outputs": [],
   "source": [
    "mobile_base = MobileBaseSDK('localhost') # Replace with your Reachy's IP address"
   ]
  },
  {
   "cell_type": "markdown",
   "id": "1de7665e",
   "metadata": {},
   "source": [
    "## At any time you can call the emergency stop if you have a problem with the mobile base\n",
    "\n",
    "**NOTE :** calling the *mobile_base.emergency_shutdown()* method will kill the mobile base's hal and sdk server.\n",
    "\n",
    "Thus, if you need to keep using the mobile base, you will need to use the *restart_hal* method."
   ]
  },
  {
   "cell_type": "code",
   "execution_count": 4,
   "id": "abdc51d2",
   "metadata": {},
   "outputs": [
    {
     "name": "stderr",
     "output_type": "stream",
     "text": [
      "Emergency shutdown executed.\n",
      "No command on the mobile base will work until you restarted its hal and sdk server.\n"
     ]
    }
   ],
   "source": [
    "mobile_base.emergency_shutdown()"
   ]
  },
  {
   "cell_type": "code",
   "execution_count": 6,
   "id": "17abc8fc",
   "metadata": {},
   "outputs": [],
   "source": [
    "mobile_base.restart_hal()"
   ]
  },
  {
   "cell_type": "markdown",
   "id": "f2ebc9fe",
   "metadata": {},
   "source": [
    "## Utility commands\n",
    "\n",
    "Once the connection with the mobile base established, you have access to information such as the mobile base's model version, battery voltage, drive mode and control mode."
   ]
  },
  {
   "cell_type": "code",
   "execution_count": 7,
   "id": "8065d1df",
   "metadata": {},
   "outputs": [
    {
     "data": {
      "text/plain": [
       "<MobileBase host=\"localhost\" - version=1.0 - battery_voltage=\n",
       "        28.1 - drive mode=cmd_vel - control mode=open_loop>"
      ]
     },
     "execution_count": 7,
     "metadata": {},
     "output_type": "execute_result"
    }
   ],
   "source": [
    "mobile_base"
   ]
  },
  {
   "cell_type": "code",
   "execution_count": 4,
   "id": "178a8fe0",
   "metadata": {},
   "outputs": [
    {
     "data": {
      "text/plain": [
       "1.0"
      ]
     },
     "execution_count": 4,
     "metadata": {},
     "output_type": "execute_result"
    }
   ],
   "source": [
    "mobile_base.model_version"
   ]
  },
  {
   "cell_type": "code",
   "execution_count": 7,
   "id": "d22968a4",
   "metadata": {},
   "outputs": [
    {
     "data": {
      "text/plain": [
       "28.0"
      ]
     },
     "execution_count": 7,
     "metadata": {},
     "output_type": "execute_result"
    }
   ],
   "source": [
    "mobile_base.battery_voltage"
   ]
  },
  {
   "cell_type": "markdown",
   "id": "4a451ab8",
   "metadata": {},
   "source": [
    "## Control modes\n",
    "\n",
    "The control mode dictates the low level control strategy used by the mobile bases's hal.\n",
    "\n",
    "Two control modes are possible:\n",
    "* ***open_loop***(default mode): in this mode, the wheels are compliant and the control is smoother,\n",
    "\n",
    "\n",
    "* ***pid***: in this mode, the wheels are stiff and the control is more precise.\n",
    "\n",
    "The control mode on the mobile base can be get with the *control_mode* attribute:"
   ]
  },
  {
   "cell_type": "code",
   "execution_count": 7,
   "id": "44f39adc",
   "metadata": {},
   "outputs": [
    {
     "data": {
      "text/plain": [
       "'open_loop'"
      ]
     },
     "execution_count": 7,
     "metadata": {},
     "output_type": "execute_result"
    }
   ],
   "source": [
    "mobile_base.control_mode"
   ]
  },
  {
   "cell_type": "markdown",
   "id": "e265061a",
   "metadata": {},
   "source": [
    "The *control_mode* can also be set:"
   ]
  },
  {
   "cell_type": "code",
   "execution_count": 8,
   "id": "44b88bc1",
   "metadata": {},
   "outputs": [],
   "source": [
    "mobile_base.control_mode = 'pid'"
   ]
  },
  {
   "cell_type": "code",
   "execution_count": 9,
   "id": "5787ba4a",
   "metadata": {},
   "outputs": [
    {
     "data": {
      "text/plain": [
       "'pid'"
      ]
     },
     "execution_count": 9,
     "metadata": {},
     "output_type": "execute_result"
    }
   ],
   "source": [
    "mobile_base.control_mode"
   ]
  },
  {
   "cell_type": "markdown",
   "id": "dddf8dde",
   "metadata": {},
   "source": [
    "## Odometry\n",
    "\n",
    "You can have access to the mobile base odometry with the *odometry* attribute. The odometry is initialised when the *reachy_mobile_base.service* or the mobile base hal and sdk is started OR whenever the *reset_odometry* method is called."
   ]
  },
  {
   "cell_type": "markdown",
   "id": "7d6a5711",
   "metadata": {},
   "source": [
    "**NOTE:** x and y are in meters and theta is in degree."
   ]
  },
  {
   "cell_type": "code",
   "execution_count": 10,
   "id": "1b2d4536",
   "metadata": {},
   "outputs": [
    {
     "data": {
      "text/plain": [
       "{'x': 0.016, 'y': -0.008, 'theta': -4.342}"
      ]
     },
     "execution_count": 10,
     "metadata": {},
     "output_type": "execute_result"
    }
   ],
   "source": [
    "mobile_base.odometry"
   ]
  },
  {
   "cell_type": "code",
   "execution_count": 11,
   "id": "6cbc6ede",
   "metadata": {},
   "outputs": [],
   "source": [
    "mobile_base.reset_odometry()"
   ]
  },
  {
   "cell_type": "code",
   "execution_count": 12,
   "id": "d3b9b05c",
   "metadata": {},
   "outputs": [
    {
     "data": {
      "text/plain": [
       "{'x': 0.0, 'y': 0.0, 'theta': 0.0}"
      ]
     },
     "execution_count": 12,
     "metadata": {},
     "output_type": "execute_result"
    }
   ],
   "source": [
    "mobile_base.odometry"
   ]
  },
  {
   "cell_type": "markdown",
   "id": "3d0060d1",
   "metadata": {},
   "source": [
    "## Mobility commands\n",
    "\n",
    "Two methods are available to make send moving instructions to the mobile base:\n",
    "* **set_speed**: send translation speed instructions along the x and y axis (in m/s) and/or rotation speed (in deg/s) instruction to the mobile base. Note that the speed instructions will be applied for a **duration of 200ms**,\n",
    "\n",
    "\n",
    "* **goto**: send cartesian target point (x, y in meters) in the odometry frame and a desired orientation (theta in degree) for the mobile base."
   ]
  },
  {
   "cell_type": "markdown",
   "id": "a878e495",
   "metadata": {},
   "source": [
    "### set speed (x_vel in m/s, y_vel in m/s, rot_vel in deg/s)"
   ]
  },
  {
   "cell_type": "code",
   "execution_count": 13,
   "id": "3e07fb83",
   "metadata": {},
   "outputs": [],
   "source": [
    "mobile_base.set_speed(x_vel=0, y_vel=0, rot_vel=60)"
   ]
  },
  {
   "cell_type": "markdown",
   "id": "ef14a29f",
   "metadata": {},
   "source": [
    "### go to (x in m, y in m, theta in deg)\n",
    "Go to in the odometry frame. After an odometry reset the point (0,0) is the current position of the robot with, x is in front of the robot, y to the left and theta counter-clockwise."
   ]
  },
  {
   "cell_type": "code",
   "execution_count": 4,
   "id": "7728857a",
   "metadata": {},
   "outputs": [],
   "source": [
    "mobile_base.reset_odometry()\n",
    "mobile_base.goto(x=0, y=0, theta=90)"
   ]
  },
  {
   "cell_type": "markdown",
   "id": "c663e669",
   "metadata": {},
   "source": [
    "You can also have access to the distance between the mobile base and its last goto target with the *_distance_to_goto_goal* attribute. "
   ]
  },
  {
   "cell_type": "code",
   "execution_count": 18,
   "id": "8f23bd3f",
   "metadata": {},
   "outputs": [
    {
     "data": {
      "text/plain": [
       "{'delta_x': 0.002, 'delta_y': -0.003, 'delta_theta': -2.672, 'distance': 0.004}"
      ]
     },
     "execution_count": 18,
     "metadata": {},
     "output_type": "execute_result"
    }
   ],
   "source": [
    "mobile_base._distance_to_goto_goal()"
   ]
  },
  {
   "cell_type": "markdown",
   "id": "ee42fc0a",
   "metadata": {},
   "source": [
    "## Advanced features\n",
    "\n",
    "Here we mention some features of the mobile base that we consider more advanced than the others presented in this notebook. More info on the mobile base documentation."
   ]
  },
  {
   "cell_type": "markdown",
   "id": "c343622e",
   "metadata": {},
   "source": [
    "### Drive mode\n",
    "The drive mode on the mobile base will impact the way the wheels behave and the way they will accept commands.\n",
    "\n",
    "Six drive modes are available for the mobile base:\n",
    "* **cmd_vel**: in this mode, speed instructions can be spammed to the wheels controllers. This mode is used for the *set_speed* method.\n",
    "* **brake**: in this mode, the wheels will be as stiff as possible.\n",
    "* **free_wheel**: in this mode, the wheels will be as compliant as possible.\n",
    "* **goto**: this mode is used for the *goto* method.\n",
    "* **emergency_stop**: in this mode, the wheels will stop receiving mobility commands. Switching to this mode will also stop the mobile base hal code. This is a safety mode. \n",
    "* **speed**: another mode to send speed instructions, but less frequently than with the cmd_vel mode. This mode is actually not used at this level (python SDK level), but is implemented at the ROS level, in case one might need it.\n",
    "\n",
    "The drive mode is handled automagically when requesting a set_speed or a goto. There are some cases where changing them by hand could be useful, such as making the mobile as compliant as possible (\"free_wheel\" mode) or the opposite (\"brake\" mode). For more details on all the available modes, check: https://github.com/pollen-robotics/zuuu_hal"
   ]
  },
  {
   "cell_type": "code",
   "execution_count": 20,
   "id": "709a0926",
   "metadata": {},
   "outputs": [
    {
     "data": {
      "text/plain": [
       "'go_to'"
      ]
     },
     "execution_count": 20,
     "metadata": {},
     "output_type": "execute_result"
    }
   ],
   "source": [
    "mobile_base.drive_mode"
   ]
  },
  {
   "cell_type": "code",
   "execution_count": 10,
   "id": "808db313",
   "metadata": {},
   "outputs": [],
   "source": [
    "mobile_base.drive_mode = \"free_wheel\""
   ]
  },
  {
   "cell_type": "code",
   "execution_count": 11,
   "id": "24e47dec",
   "metadata": {},
   "outputs": [],
   "source": [
    "mobile_base.drive_mode = \"brake\""
   ]
  },
  {
   "cell_type": "markdown",
   "id": "86faa5c2",
   "metadata": {},
   "source": [
    "### async goto\n",
    "\n",
    "An async version of the goto method is alvailable. It can be useful in cases where for example you want to combine a movement of the mobile base with a movement of reachy."
   ]
  },
  {
   "cell_type": "code",
   "execution_count": 19,
   "id": "6f90ae0d",
   "metadata": {},
   "outputs": [],
   "source": [
    "await mobile_base.goto_async(x=0, y=0, theta=90)"
   ]
  }
 ],
 "metadata": {
  "kernelspec": {
   "display_name": "Python 3",
   "language": "python",
   "name": "python3"
  },
  "language_info": {
   "codemirror_mode": {
    "name": "ipython",
    "version": 3
   },
   "file_extension": ".py",
   "mimetype": "text/x-python",
   "name": "python",
   "nbconvert_exporter": "python",
   "pygments_lexer": "ipython3",
   "version": "3.8.10"
  }
 },
 "nbformat": 4,
 "nbformat_minor": 5
}
