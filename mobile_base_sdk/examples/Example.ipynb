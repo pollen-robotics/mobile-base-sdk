{
 "cells": [
  {
   "cell_type": "markdown",
   "id": "3d2ba123",
   "metadata": {},
   "source": [
    "### SDK initialisation"
   ]
  },
  {
   "cell_type": "code",
   "execution_count": 1,
   "id": "e11af457",
   "metadata": {},
   "outputs": [],
   "source": [
    "from mobile_base_sdk import MobileBaseSDK"
   ]
  },
  {
   "cell_type": "code",
   "execution_count": 2,
   "id": "b5649903",
   "metadata": {},
   "outputs": [],
   "source": [
    "mobile_base = MobileBaseSDK('192.168.86.32')"
   ]
  },
  {
   "cell_type": "markdown",
   "id": "1de7665e",
   "metadata": {},
   "source": [
    "## At any time you can call the emergency stop with"
   ]
  },
  {
   "cell_type": "code",
   "execution_count": 16,
   "id": "abdc51d2",
   "metadata": {},
   "outputs": [],
   "source": [
    "mobile_base.emergency_shutdown()"
   ]
  },
  {
   "cell_type": "markdown",
   "id": "f2ebc9fe",
   "metadata": {},
   "source": [
    "## Utility commands"
   ]
  },
  {
   "cell_type": "code",
   "execution_count": 3,
   "id": "8065d1df",
   "metadata": {},
   "outputs": [
    {
     "data": {
      "text/plain": [
       "<MobileBase host=\"192.168.86.32\" version=1.0 battery_level=27.2\n",
       "        drive mode=goto control mode=pid>"
      ]
     },
     "execution_count": 3,
     "metadata": {},
     "output_type": "execute_result"
    }
   ],
   "source": [
    "mobile_base"
   ]
  },
  {
   "cell_type": "code",
   "execution_count": 3,
   "id": "178a8fe0",
   "metadata": {},
   "outputs": [
    {
     "data": {
      "text/plain": [
       "1.0"
      ]
     },
     "execution_count": 3,
     "metadata": {},
     "output_type": "execute_result"
    }
   ],
   "source": [
    "mobile_base.model_version"
   ]
  },
  {
   "cell_type": "code",
   "execution_count": 22,
   "id": "d22968a4",
   "metadata": {},
   "outputs": [
    {
     "data": {
      "text/plain": [
       "27.1"
      ]
     },
     "execution_count": 22,
     "metadata": {},
     "output_type": "execute_result"
    }
   ],
   "source": [
    "mobile_base.battery_voltage"
   ]
  },
  {
   "cell_type": "markdown",
   "id": "4a451ab8",
   "metadata": {},
   "source": [
    "### control_mode dictates the low level control strategy. 'pid'=stiff and more precise, 'open_loop'=smooth and compliant"
   ]
  },
  {
   "cell_type": "code",
   "execution_count": 4,
   "id": "44f39adc",
   "metadata": {},
   "outputs": [
    {
     "data": {
      "text/plain": [
       "'pid'"
      ]
     },
     "execution_count": 4,
     "metadata": {},
     "output_type": "execute_result"
    }
   ],
   "source": [
    "mobile_base.control_mode"
   ]
  },
  {
   "cell_type": "code",
   "execution_count": 7,
   "id": "44b88bc1",
   "metadata": {},
   "outputs": [],
   "source": [
    "mobile_base.control_mode=\"open_loop\""
   ]
  },
  {
   "cell_type": "markdown",
   "id": "dddf8dde",
   "metadata": {},
   "source": [
    "### Odometry"
   ]
  },
  {
   "cell_type": "code",
   "execution_count": 5,
   "id": "1b2d4536",
   "metadata": {},
   "outputs": [
    {
     "data": {
      "text/plain": [
       "{'x': -0.209, 'y': 0.074, 'theta': -1.795}"
      ]
     },
     "execution_count": 5,
     "metadata": {},
     "output_type": "execute_result"
    }
   ],
   "source": [
    "mobile_base.odometry"
   ]
  },
  {
   "cell_type": "code",
   "execution_count": 6,
   "id": "6cbc6ede",
   "metadata": {},
   "outputs": [],
   "source": [
    "mobile_base.reset_odometry()"
   ]
  },
  {
   "cell_type": "markdown",
   "id": "3d0060d1",
   "metadata": {},
   "source": [
    "## Mobility commands"
   ]
  },
  {
   "cell_type": "markdown",
   "id": "a878e495",
   "metadata": {},
   "source": [
    "### set speed (x_vel in m/s, y_vel in m/s, rot_vel in deg/s, duration in s)"
   ]
  },
  {
   "cell_type": "code",
   "execution_count": 15,
   "id": "3e07fb83",
   "metadata": {},
   "outputs": [],
   "source": [
    "mobile_base.set_speed(x_vel=0, y_vel=0, rot_vel=60, duration=3.1415)"
   ]
  },
  {
   "cell_type": "markdown",
   "id": "ef14a29f",
   "metadata": {},
   "source": [
    "### go to (x in m, y in m, theta in deg)\n",
    "Go to in the odometry frame. After an odometry reset the point (0,0) is the current position of the robot with, x is in front of the robot, y to the left and theta counter-clockwise."
   ]
  },
  {
   "cell_type": "code",
   "execution_count": 20,
   "id": "7728857a",
   "metadata": {},
   "outputs": [],
   "source": [
    "mobile_base.reset_odometry()\n",
    "mobile_base.go_to(x=0, y=0, theta=180)"
   ]
  },
  {
   "cell_type": "markdown",
   "id": "ee42fc0a",
   "metadata": {},
   "source": [
    "## advanced features"
   ]
  },
  {
   "cell_type": "markdown",
   "id": "c343622e",
   "metadata": {},
   "source": [
    "### Drive mode \n",
    "The drive mode is handled automagically when requesting a set_speed or a goto. There are some cases where changing them by hand could be useful, such as making the mobile as compliant as possible (\"free_wheel\" mode) or the opposite (\"brake\" mode). For more details on all the available modes, check: https://github.com/pollen-robotics/zuuu_hal"
   ]
  },
  {
   "cell_type": "code",
   "execution_count": null,
   "id": "709a0926",
   "metadata": {},
   "outputs": [],
   "source": [
    "mobile_base.drive_mode"
   ]
  },
  {
   "cell_type": "code",
   "execution_count": 10,
   "id": "808db313",
   "metadata": {},
   "outputs": [],
   "source": [
    "mobile_base.drive_mode=\"free_wheel\""
   ]
  },
  {
   "cell_type": "code",
   "execution_count": 11,
   "id": "24e47dec",
   "metadata": {},
   "outputs": [],
   "source": [
    "mobile_base.drive_mode=\"brake\""
   ]
  }
 ],
 "metadata": {
  "kernelspec": {
   "display_name": "Python 3 (ipykernel)",
   "language": "python",
   "name": "python3"
  },
  "language_info": {
   "codemirror_mode": {
    "name": "ipython",
    "version": 3
   },
   "file_extension": ".py",
   "mimetype": "text/x-python",
   "name": "python",
   "nbconvert_exporter": "python",
   "pygments_lexer": "ipython3",
   "version": "3.8.10"
  }
 },
 "nbformat": 4,
 "nbformat_minor": 5
}
