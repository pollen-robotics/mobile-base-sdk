{
 "cells": [
  {
   "cell_type": "markdown",
   "id": "3d2ba123",
   "metadata": {},
   "source": [
    "### SDK initialisation"
   ]
  },
  {
   "cell_type": "code",
   "execution_count": 1,
   "id": "e11af457",
   "metadata": {},
   "outputs": [],
   "source": [
    "from mobile_base_sdk import MobileBaseSDK"
   ]
  },
  {
   "cell_type": "code",
   "execution_count": 2,
   "id": "b5649903",
   "metadata": {},
   "outputs": [],
   "source": [
    "mobile_base = MobileBaseSDK('192.168.86.32')"
   ]
  },
  {
   "cell_type": "markdown",
   "id": "1de7665e",
   "metadata": {},
   "source": [
    "## At any time you can call the emergency stop with"
   ]
  },
  {
   "cell_type": "code",
   "execution_count": null,
   "id": "abdc51d2",
   "metadata": {},
   "outputs": [],
   "source": [
    "mobile_base.emergency_shutdown()"
   ]
  },
  {
   "cell_type": "markdown",
   "id": "f2ebc9fe",
   "metadata": {},
   "source": [
    "## Utility commands"
   ]
  },
  {
   "cell_type": "code",
   "execution_count": 3,
   "id": "8065d1df",
   "metadata": {},
   "outputs": [
    {
     "data": {
      "text/plain": [
       "<MobileBase host=\"192.168.86.32\" version=1.0 battery_level=27.3\n",
       "        drive mode=cmd_vel control mode=open_loop>"
      ]
     },
     "execution_count": 3,
     "metadata": {},
     "output_type": "execute_result"
    }
   ],
   "source": [
    "mobile_base"
   ]
  },
  {
   "cell_type": "code",
   "execution_count": 3,
   "id": "178a8fe0",
   "metadata": {},
   "outputs": [
    {
     "data": {
      "text/plain": [
       "1.0"
      ]
     },
     "execution_count": 3,
     "metadata": {},
     "output_type": "execute_result"
    }
   ],
   "source": [
    "mobile_base.model_version"
   ]
  },
  {
   "cell_type": "code",
   "execution_count": 3,
   "id": "44f39adc",
   "metadata": {},
   "outputs": [
    {
     "data": {
      "text/plain": [
       "'OPEN_LOOP'"
      ]
     },
     "execution_count": 3,
     "metadata": {},
     "output_type": "execute_result"
    }
   ],
   "source": [
    "mobile_base.control_mode"
   ]
  },
  {
   "cell_type": "code",
   "execution_count": 24,
   "id": "9c2b7857",
   "metadata": {},
   "outputs": [],
   "source": [
    "mobile_base.control_mode=\"pid\""
   ]
  },
  {
   "cell_type": "code",
   "execution_count": null,
   "id": "709a0926",
   "metadata": {},
   "outputs": [],
   "source": [
    "mobile_base.drive_mode"
   ]
  },
  {
   "cell_type": "code",
   "execution_count": 5,
   "id": "1b2d4536",
   "metadata": {},
   "outputs": [
    {
     "data": {
      "text/plain": [
       "{'x': -0.209, 'y': 0.074, 'theta': -1.795}"
      ]
     },
     "execution_count": 5,
     "metadata": {},
     "output_type": "execute_result"
    }
   ],
   "source": [
    "mobile_base.odometry"
   ]
  },
  {
   "cell_type": "code",
   "execution_count": 6,
   "id": "6cbc6ede",
   "metadata": {},
   "outputs": [],
   "source": [
    "mobile_base.reset_odometry()"
   ]
  },
  {
   "cell_type": "markdown",
   "id": "3d0060d1",
   "metadata": {},
   "source": [
    "## Mobility commands"
   ]
  },
  {
   "cell_type": "markdown",
   "id": "a878e495",
   "metadata": {},
   "source": [
    "### set speed"
   ]
  },
  {
   "cell_type": "code",
   "execution_count": 15,
   "id": "3e07fb83",
   "metadata": {},
   "outputs": [],
   "source": [
    "mobile_base.set_speed(0, 0, -60, 3.1415)"
   ]
  },
  {
   "cell_type": "markdown",
   "id": "ef14a29f",
   "metadata": {},
   "source": [
    "### go to x, y, theta"
   ]
  },
  {
   "cell_type": "code",
   "execution_count": 25,
   "id": "7728857a",
   "metadata": {},
   "outputs": [],
   "source": [
    "mobile_base.reset_odometry()\n"
   ]
  },
  {
   "cell_type": "code",
   "execution_count": 26,
   "id": "8d7b677d",
   "metadata": {},
   "outputs": [],
   "source": [
    "mobile_base.go_to(0, 0, 180)"
   ]
  },
  {
   "cell_type": "code",
   "execution_count": 3,
   "id": "26523068",
   "metadata": {},
   "outputs": [
    {
     "data": {
      "text/plain": [
       "{'x': -0.007904427126049995,\n",
       " 'y': -0.004449585918337107,\n",
       " 'theta': -0.02315443381667137}"
      ]
     },
     "execution_count": 3,
     "metadata": {},
     "output_type": "execute_result"
    }
   ],
   "source": []
  },
  {
   "cell_type": "code",
   "execution_count": 3,
   "id": "e8cd06f2",
   "metadata": {},
   "outputs": [],
   "source": []
  },
  {
   "cell_type": "code",
   "execution_count": 4,
   "id": "cc4960bc",
   "metadata": {},
   "outputs": [],
   "source": [
    "mobile_base.reset_odometry()"
   ]
  },
  {
   "cell_type": "code",
   "execution_count": 3,
   "id": "1a540ec4",
   "metadata": {},
   "outputs": [
    {
     "data": {
      "text/plain": [
       "'CMD_VEL'"
      ]
     },
     "execution_count": 3,
     "metadata": {},
     "output_type": "execute_result"
    }
   ],
   "source": []
  },
  {
   "cell_type": "code",
   "execution_count": 3,
   "id": "7224de30",
   "metadata": {},
   "outputs": [
    {
     "data": {
      "text/plain": [
       "'OPEN_LOOP'"
      ]
     },
     "execution_count": 3,
     "metadata": {},
     "output_type": "execute_result"
    }
   ],
   "source": [
    "mobile_base.control_mode"
   ]
  },
  {
   "cell_type": "code",
   "execution_count": 3,
   "id": "9ac0e17d",
   "metadata": {},
   "outputs": [
    {
     "data": {
      "text/plain": [
       "26.7"
      ]
     },
     "execution_count": 3,
     "metadata": {},
     "output_type": "execute_result"
    }
   ],
   "source": [
    "mobile_base.battery_level"
   ]
  },
  {
   "cell_type": "code",
   "execution_count": 4,
   "id": "2c64905a",
   "metadata": {},
   "outputs": [],
   "source": [
    "from mobile_platform_reachy_pb2 import ControlModePossiblities"
   ]
  },
  {
   "cell_type": "code",
   "execution_count": 7,
   "id": "ed449939",
   "metadata": {},
   "outputs": [
    {
     "data": {
      "text/plain": [
       "['NONE_CONTROL_MODE', 'OPEN_LOOP', 'PID']"
      ]
     },
     "execution_count": 7,
     "metadata": {},
     "output_type": "execute_result"
    }
   ],
   "source": [
    "ControlModePossiblities.keys()"
   ]
  },
  {
   "cell_type": "code",
   "execution_count": 3,
   "id": "ac03d9a5",
   "metadata": {},
   "outputs": [],
   "source": []
  },
  {
   "cell_type": "code",
   "execution_count": null,
   "id": "329310c6",
   "metadata": {
    "scrolled": true
   },
   "outputs": [],
   "source": []
  },
  {
   "cell_type": "code",
   "execution_count": 16,
   "id": "fb2d512f",
   "metadata": {},
   "outputs": [],
   "source": []
  },
  {
   "cell_type": "code",
   "execution_count": 17,
   "id": "abaa478a",
   "metadata": {},
   "outputs": [],
   "source": []
  },
  {
   "cell_type": "code",
   "execution_count": 9,
   "id": "efaef1c4",
   "metadata": {},
   "outputs": [],
   "source": []
  },
  {
   "cell_type": "code",
   "execution_count": null,
   "id": "93ceebd1",
   "metadata": {},
   "outputs": [],
   "source": []
  },
  {
   "cell_type": "code",
   "execution_count": null,
   "id": "262ab1c4",
   "metadata": {},
   "outputs": [],
   "source": []
  }
 ],
 "metadata": {
  "kernelspec": {
   "display_name": "Python 3 (ipykernel)",
   "language": "python",
   "name": "python3"
  },
  "language_info": {
   "codemirror_mode": {
    "name": "ipython",
    "version": 3
   },
   "file_extension": ".py",
   "mimetype": "text/x-python",
   "name": "python",
   "nbconvert_exporter": "python",
   "pygments_lexer": "ipython3",
   "version": "3.8.10"
  }
 },
 "nbformat": 4,
 "nbformat_minor": 5
}
