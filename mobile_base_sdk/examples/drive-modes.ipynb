{
 "cells": [
  {
   "cell_type": "markdown",
   "id": "3be7fb53",
   "metadata": {},
   "source": [
    "# Drive modes example notebook\n",
    "\n",
    "## Drive modes\n",
    "\n",
    "The drive mode on the mobile base will impact the way the mobile base will accept commands. We could say it's the current state of the mobile base.\n",
    "\n",
    "In most cases, there is no need to think about these modes or to handle them in your code.\n",
    "\n",
    "Six drive modes are available for the mobile base:\n",
    "* **cmd_vel**: in this mode, speed instructions can be spammed to the wheels controllers. This mode is used for the *set_speed* method.\n",
    "* **brake**: in this mode, the wheels will be stiff.\n",
    "* **free_wheel**: in this mode, the wheels will be as compliant as possible.\n",
    "* **emergency_stop**: in this mode, the wheels will stop receiving mobility commands. Switching to this mode will also stop the mobile base hal code. This is a safety mode. \n",
    "* **speed**: another mode to send speed instructions, but less frequently than with the cmd_vel mode. This mode is actually not used at this level (python SDK level), but is implemented at the ROS level, in case one might need it.\n",
    "* **goto**: this mode is used for the *goto* method.\n",
    "\n",
    "*note: the 'speed' and 'goto' modes can't be changed by hand*\n",
    "\n",
    "The drive mode is handled automagically when requesting a set_speed or a goto. There are some cases where changing them by hand could be useful, such as making the mobile as compliant as possible (\"free_wheel\" mode) or the opposite (\"brake\" mode). For more details on all the available modes, check: https://github.com/pollen-robotics/zuuu_hal\n",
    "\n",
    "Connect to the mobile base:"
   ]
  },
  {
   "cell_type": "code",
   "execution_count": null,
   "id": "e11af457",
   "metadata": {},
   "outputs": [],
   "source": [
    "from mobile_base_sdk import MobileBaseSDK\n",
    "mobile_base = MobileBaseSDK('localhost') # Replace with your Reachy's IP address"
   ]
  },
  {
   "cell_type": "markdown",
   "id": "d4cf0615",
   "metadata": {},
   "source": [
    "The drive mode on the mobile base can be accessed with the *drive_mode* attribute:"
   ]
  },
  {
   "cell_type": "code",
   "execution_count": null,
   "id": "889644ab",
   "metadata": {},
   "outputs": [],
   "source": [
    "mobile_base.drive_mode"
   ]
  },
  {
   "cell_type": "code",
   "execution_count": null,
   "id": "2dbfa125",
   "metadata": {},
   "outputs": [],
   "source": [
    "mobile_base.drive_mode='free_wheel'"
   ]
  },
  {
   "cell_type": "markdown",
   "id": "94ce874c",
   "metadata": {},
   "source": [
    "Push the mobile base by hand and feel the difference in compliancy with the following mode:"
   ]
  },
  {
   "cell_type": "code",
   "execution_count": null,
   "id": "547ac458",
   "metadata": {},
   "outputs": [],
   "source": [
    "mobile_base.drive_mode='brake'"
   ]
  },
  {
   "cell_type": "markdown",
   "id": "8f3a5dd5",
   "metadata": {},
   "source": [
    "If you want the robot to stay where it is and the brake mode is not enough (i.e the robot has to stay stationary on a slope), use a goto command:"
   ]
  },
  {
   "cell_type": "code",
   "execution_count": null,
   "id": "126461c7",
   "metadata": {},
   "outputs": [],
   "source": [
    "mobile_base.reset_odometry()\n",
    "mobile_base.goto(x=0, y=0, theta=0)"
   ]
  }
 ],
 "metadata": {
  "kernelspec": {
   "display_name": "Python 3 (ipykernel)",
   "language": "python",
   "name": "python3"
  },
  "language_info": {
   "codemirror_mode": {
    "name": "ipython",
    "version": 3
   },
   "file_extension": ".py",
   "mimetype": "text/x-python",
   "name": "python",
   "nbconvert_exporter": "python",
   "pygments_lexer": "ipython3",
   "version": "3.8.10"
  }
 },
 "nbformat": 4,
 "nbformat_minor": 5
}
