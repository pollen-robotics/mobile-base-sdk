{
 "cells": [
  {
   "cell_type": "markdown",
   "id": "3be7fb53",
   "metadata": {},
   "source": [
    "# Control modes example notebook\n",
    "\n",
    "## Control modes\n",
    "\n",
    "The control mode dictates the low level control strategy used by the mobile bases's hal.\n",
    "\n",
    "Two control modes are possible:\n",
    "* ***open_loop***(default mode): in this mode, the wheels are compliant and the control is smoother,\n",
    "\n",
    "\n",
    "* ***pid***: in this mode, the wheels are stiff and the control is more precise.\n",
    "\n",
    "Connect to the mobible base:"
   ]
  },
  {
   "cell_type": "code",
   "execution_count": null,
   "id": "e11af457",
   "metadata": {},
   "outputs": [],
   "source": [
    "from mobile_base_sdk import MobileBaseSDK\n",
    "mobile_base = MobileBaseSDK('localhost') # Replace with your Reachy's IP address"
   ]
  },
  {
   "cell_type": "markdown",
   "id": "e2f0b55d",
   "metadata": {},
   "source": [
    "The control mode on the mobile base can be accessed with the *control_mode* attribute:"
   ]
  },
  {
   "cell_type": "code",
   "execution_count": null,
   "id": "44f39adc",
   "metadata": {},
   "outputs": [],
   "source": [
    "mobile_base.control_mode"
   ]
  },
  {
   "cell_type": "markdown",
   "id": "e265061a",
   "metadata": {},
   "source": [
    "The *control_mode* can also be set:"
   ]
  },
  {
   "cell_type": "code",
   "execution_count": null,
   "id": "44b88bc1",
   "metadata": {},
   "outputs": [],
   "source": [
    "mobile_base.control_mode = 'pid'"
   ]
  },
  {
   "cell_type": "code",
   "execution_count": null,
   "id": "5787ba4a",
   "metadata": {},
   "outputs": [],
   "source": [
    "mobile_base.control_mode"
   ]
  },
  {
   "cell_type": "markdown",
   "id": "ddfa152e",
   "metadata": {},
   "source": [
    "The control mode changes the dynamic behaviour of the mobile base (a bit), but doesn't change anything for the rest of the control interfaces (go_to, set_speed). A good way get a feel for PID vs OPEN_LOOP is to set the control mode with this notebook then run the 'joy_controller.py' code and pilot the robot with the joysticks. Or, use the following GoTo commands:"
   ]
  },
  {
   "cell_type": "code",
   "execution_count": null,
   "id": "385dc808",
   "metadata": {},
   "outputs": [],
   "source": [
    "mobile_base.control_mode = 'pid'\n",
    "mobile_base.reset_odometry()\n",
    "mobile_base.goto(x=0, y=0, theta=180)"
   ]
  },
  {
   "cell_type": "code",
   "execution_count": null,
   "id": "c799b753",
   "metadata": {},
   "outputs": [],
   "source": [
    "mobile_base.control_mode = 'open_loop'\n",
    "mobile_base.reset_odometry()\n",
    "mobile_base.goto(x=0, y=0, theta=180)"
   ]
  }
 ],
 "metadata": {
  "kernelspec": {
   "display_name": "Python 3 (ipykernel)",
   "language": "python",
   "name": "python3"
  },
  "language_info": {
   "codemirror_mode": {
    "name": "ipython",
    "version": 3
   },
   "file_extension": ".py",
   "mimetype": "text/x-python",
   "name": "python",
   "nbconvert_exporter": "python",
   "pygments_lexer": "ipython3",
   "version": "3.8.10"
  }
 },
 "nbformat": 4,
 "nbformat_minor": 5
}
